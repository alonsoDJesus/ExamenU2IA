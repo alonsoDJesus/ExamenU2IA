{
  "cells": [
    {
      "attachments": {},
      "cell_type": "markdown",
      "metadata": {
        "id": "oHnLU47Myg2s"
      },
      "source": [
        "#Examen de la Unidad 2"
      ]
    },
    {
      "attachments": {},
      "cell_type": "markdown",
      "metadata": {
        "id": "5R_SC7zQyjuz"
      },
      "source": [
        "##Por:\n",
        "## * Gómez Núñez Eunice Yoshua\n",
        "## * Vargas Rincón Alonso de Jesús"
      ]
    },
    {
      "attachments": {},
      "cell_type": "markdown",
      "metadata": {
        "id": "Op2VUP00zJxn"
      },
      "source": [
        "##Sección 2: Modelo de clasificación"
      ]
    },
    {
      "cell_type": "code",
      "execution_count": 1,
      "metadata": {
        "id": "jEsdVoet0LlN"
      },
      "outputs": [],
      "source": [
        "# Importación de librerías necesarias\n",
        "\n",
        "#from google.colab import drive\n",
        "import pandas as pd\n",
        "from sklearn.model_selection import train_test_split\n",
        "from sklearn.tree import DecisionTreeClassifier\n",
        "import numpy as np\n",
        "from sklearn.metrics import f1_score, accuracy_score, recall_score, confusion_matrix, precision_score\n",
        "from sklearn.model_selection import GridSearchCV \n",
        "import matplotlib.pyplot as plt"
      ]
    },
    {
      "cell_type": "code",
      "execution_count": 2,
      "metadata": {
        "colab": {
          "base_uri": "https://localhost:8080/"
        },
        "id": "u1kAPNJA0oRG",
        "outputId": "ff8ca0df-8801-4ad8-eda6-b246618f3943"
      },
      "outputs": [],
      "source": [
        "#drive.mount('/content/gdrive') # Conexión con Google Drive"
      ]
    },
    {
      "cell_type": "code",
      "execution_count": 3,
      "metadata": {
        "id": "cyxIbHM_0t3Y"
      },
      "outputs": [],
      "source": [
        "path = 'data.csv' # Definición de la ruta del archivo .csv\n",
        "migraine = pd.read_csv(path) # Creación del dataframe. Su nombre queda como \"migraine\"."
      ]
    },
    {
      "attachments": {},
      "cell_type": "markdown",
      "metadata": {
        "id": "kt1vsgB5Hr1O"
      },
      "source": [
        "###Observaciones Previas "
      ]
    },
    {
      "cell_type": "code",
      "execution_count": 4,
      "metadata": {
        "colab": {
          "base_uri": "https://localhost:8080/",
          "height": 942
        },
        "id": "-CfoAq2j1TKS",
        "outputId": "2a117a51-b3e2-4d15-add1-e03f6c894852"
      },
      "outputs": [
        {
          "data": {
            "text/html": [
              "<div>\n",
              "<style scoped>\n",
              "    .dataframe tbody tr th:only-of-type {\n",
              "        vertical-align: middle;\n",
              "    }\n",
              "\n",
              "    .dataframe tbody tr th {\n",
              "        vertical-align: top;\n",
              "    }\n",
              "\n",
              "    .dataframe thead th {\n",
              "        text-align: right;\n",
              "    }\n",
              "</style>\n",
              "<table border=\"1\" class=\"dataframe\">\n",
              "  <thead>\n",
              "    <tr style=\"text-align: right;\">\n",
              "      <th></th>\n",
              "      <th>Age</th>\n",
              "      <th>Duration</th>\n",
              "      <th>Frequency</th>\n",
              "      <th>Location</th>\n",
              "      <th>Character</th>\n",
              "      <th>Intensity</th>\n",
              "      <th>Nausea</th>\n",
              "      <th>Vomit</th>\n",
              "      <th>Phonophobia</th>\n",
              "      <th>Photophobia</th>\n",
              "      <th>...</th>\n",
              "      <th>Vertigo</th>\n",
              "      <th>Tinnitus</th>\n",
              "      <th>Hypoacusis</th>\n",
              "      <th>Diplopia</th>\n",
              "      <th>Defect</th>\n",
              "      <th>Ataxia</th>\n",
              "      <th>Conscience</th>\n",
              "      <th>Paresthesia</th>\n",
              "      <th>DPF</th>\n",
              "      <th>Type</th>\n",
              "    </tr>\n",
              "  </thead>\n",
              "  <tbody>\n",
              "    <tr>\n",
              "      <th>0</th>\n",
              "      <td>30</td>\n",
              "      <td>1</td>\n",
              "      <td>5</td>\n",
              "      <td>1</td>\n",
              "      <td>1</td>\n",
              "      <td>2</td>\n",
              "      <td>1</td>\n",
              "      <td>0</td>\n",
              "      <td>1</td>\n",
              "      <td>1</td>\n",
              "      <td>...</td>\n",
              "      <td>0</td>\n",
              "      <td>0</td>\n",
              "      <td>0</td>\n",
              "      <td>0</td>\n",
              "      <td>0</td>\n",
              "      <td>0</td>\n",
              "      <td>0</td>\n",
              "      <td>0</td>\n",
              "      <td>0</td>\n",
              "      <td>Typical aura with migraine</td>\n",
              "    </tr>\n",
              "    <tr>\n",
              "      <th>1</th>\n",
              "      <td>50</td>\n",
              "      <td>3</td>\n",
              "      <td>5</td>\n",
              "      <td>1</td>\n",
              "      <td>1</td>\n",
              "      <td>3</td>\n",
              "      <td>1</td>\n",
              "      <td>1</td>\n",
              "      <td>1</td>\n",
              "      <td>1</td>\n",
              "      <td>...</td>\n",
              "      <td>1</td>\n",
              "      <td>0</td>\n",
              "      <td>0</td>\n",
              "      <td>0</td>\n",
              "      <td>0</td>\n",
              "      <td>0</td>\n",
              "      <td>0</td>\n",
              "      <td>0</td>\n",
              "      <td>0</td>\n",
              "      <td>Typical aura with migraine</td>\n",
              "    </tr>\n",
              "    <tr>\n",
              "      <th>2</th>\n",
              "      <td>53</td>\n",
              "      <td>2</td>\n",
              "      <td>1</td>\n",
              "      <td>1</td>\n",
              "      <td>1</td>\n",
              "      <td>2</td>\n",
              "      <td>1</td>\n",
              "      <td>1</td>\n",
              "      <td>1</td>\n",
              "      <td>1</td>\n",
              "      <td>...</td>\n",
              "      <td>0</td>\n",
              "      <td>0</td>\n",
              "      <td>0</td>\n",
              "      <td>0</td>\n",
              "      <td>0</td>\n",
              "      <td>0</td>\n",
              "      <td>0</td>\n",
              "      <td>0</td>\n",
              "      <td>0</td>\n",
              "      <td>Typical aura with migraine</td>\n",
              "    </tr>\n",
              "    <tr>\n",
              "      <th>3</th>\n",
              "      <td>45</td>\n",
              "      <td>3</td>\n",
              "      <td>5</td>\n",
              "      <td>1</td>\n",
              "      <td>1</td>\n",
              "      <td>3</td>\n",
              "      <td>1</td>\n",
              "      <td>0</td>\n",
              "      <td>1</td>\n",
              "      <td>1</td>\n",
              "      <td>...</td>\n",
              "      <td>1</td>\n",
              "      <td>0</td>\n",
              "      <td>0</td>\n",
              "      <td>0</td>\n",
              "      <td>0</td>\n",
              "      <td>0</td>\n",
              "      <td>0</td>\n",
              "      <td>0</td>\n",
              "      <td>0</td>\n",
              "      <td>Typical aura with migraine</td>\n",
              "    </tr>\n",
              "    <tr>\n",
              "      <th>4</th>\n",
              "      <td>53</td>\n",
              "      <td>1</td>\n",
              "      <td>1</td>\n",
              "      <td>1</td>\n",
              "      <td>1</td>\n",
              "      <td>2</td>\n",
              "      <td>1</td>\n",
              "      <td>0</td>\n",
              "      <td>1</td>\n",
              "      <td>1</td>\n",
              "      <td>...</td>\n",
              "      <td>0</td>\n",
              "      <td>0</td>\n",
              "      <td>0</td>\n",
              "      <td>0</td>\n",
              "      <td>0</td>\n",
              "      <td>0</td>\n",
              "      <td>0</td>\n",
              "      <td>0</td>\n",
              "      <td>1</td>\n",
              "      <td>Typical aura with migraine</td>\n",
              "    </tr>\n",
              "    <tr>\n",
              "      <th>5</th>\n",
              "      <td>49</td>\n",
              "      <td>1</td>\n",
              "      <td>1</td>\n",
              "      <td>1</td>\n",
              "      <td>1</td>\n",
              "      <td>3</td>\n",
              "      <td>1</td>\n",
              "      <td>0</td>\n",
              "      <td>1</td>\n",
              "      <td>1</td>\n",
              "      <td>...</td>\n",
              "      <td>0</td>\n",
              "      <td>0</td>\n",
              "      <td>0</td>\n",
              "      <td>0</td>\n",
              "      <td>0</td>\n",
              "      <td>0</td>\n",
              "      <td>0</td>\n",
              "      <td>0</td>\n",
              "      <td>0</td>\n",
              "      <td>Migraine without aura</td>\n",
              "    </tr>\n",
              "    <tr>\n",
              "      <th>6</th>\n",
              "      <td>27</td>\n",
              "      <td>1</td>\n",
              "      <td>5</td>\n",
              "      <td>1</td>\n",
              "      <td>1</td>\n",
              "      <td>3</td>\n",
              "      <td>1</td>\n",
              "      <td>0</td>\n",
              "      <td>1</td>\n",
              "      <td>1</td>\n",
              "      <td>...</td>\n",
              "      <td>1</td>\n",
              "      <td>1</td>\n",
              "      <td>0</td>\n",
              "      <td>0</td>\n",
              "      <td>0</td>\n",
              "      <td>0</td>\n",
              "      <td>0</td>\n",
              "      <td>0</td>\n",
              "      <td>0</td>\n",
              "      <td>Basilar-type aura</td>\n",
              "    </tr>\n",
              "    <tr>\n",
              "      <th>7</th>\n",
              "      <td>24</td>\n",
              "      <td>1</td>\n",
              "      <td>1</td>\n",
              "      <td>1</td>\n",
              "      <td>1</td>\n",
              "      <td>2</td>\n",
              "      <td>1</td>\n",
              "      <td>0</td>\n",
              "      <td>1</td>\n",
              "      <td>1</td>\n",
              "      <td>...</td>\n",
              "      <td>1</td>\n",
              "      <td>0</td>\n",
              "      <td>0</td>\n",
              "      <td>0</td>\n",
              "      <td>0</td>\n",
              "      <td>0</td>\n",
              "      <td>0</td>\n",
              "      <td>0</td>\n",
              "      <td>1</td>\n",
              "      <td>Typical aura with migraine</td>\n",
              "    </tr>\n",
              "    <tr>\n",
              "      <th>8</th>\n",
              "      <td>50</td>\n",
              "      <td>1</td>\n",
              "      <td>5</td>\n",
              "      <td>1</td>\n",
              "      <td>1</td>\n",
              "      <td>2</td>\n",
              "      <td>1</td>\n",
              "      <td>1</td>\n",
              "      <td>1</td>\n",
              "      <td>1</td>\n",
              "      <td>...</td>\n",
              "      <td>1</td>\n",
              "      <td>0</td>\n",
              "      <td>0</td>\n",
              "      <td>0</td>\n",
              "      <td>0</td>\n",
              "      <td>0</td>\n",
              "      <td>0</td>\n",
              "      <td>0</td>\n",
              "      <td>1</td>\n",
              "      <td>Typical aura with migraine</td>\n",
              "    </tr>\n",
              "    <tr>\n",
              "      <th>9</th>\n",
              "      <td>23</td>\n",
              "      <td>1</td>\n",
              "      <td>1</td>\n",
              "      <td>1</td>\n",
              "      <td>1</td>\n",
              "      <td>3</td>\n",
              "      <td>1</td>\n",
              "      <td>1</td>\n",
              "      <td>1</td>\n",
              "      <td>1</td>\n",
              "      <td>...</td>\n",
              "      <td>0</td>\n",
              "      <td>0</td>\n",
              "      <td>0</td>\n",
              "      <td>0</td>\n",
              "      <td>0</td>\n",
              "      <td>0</td>\n",
              "      <td>0</td>\n",
              "      <td>0</td>\n",
              "      <td>0</td>\n",
              "      <td>Typical aura with migraine</td>\n",
              "    </tr>\n",
              "  </tbody>\n",
              "</table>\n",
              "<p>10 rows × 24 columns</p>\n",
              "</div>"
            ],
            "text/plain": [
              "   Age  Duration  Frequency  Location  Character  Intensity  Nausea  Vomit   \n",
              "0   30         1          5         1          1          2       1      0  \\\n",
              "1   50         3          5         1          1          3       1      1   \n",
              "2   53         2          1         1          1          2       1      1   \n",
              "3   45         3          5         1          1          3       1      0   \n",
              "4   53         1          1         1          1          2       1      0   \n",
              "5   49         1          1         1          1          3       1      0   \n",
              "6   27         1          5         1          1          3       1      0   \n",
              "7   24         1          1         1          1          2       1      0   \n",
              "8   50         1          5         1          1          2       1      1   \n",
              "9   23         1          1         1          1          3       1      1   \n",
              "\n",
              "   Phonophobia  Photophobia  ...  Vertigo  Tinnitus  Hypoacusis  Diplopia   \n",
              "0            1            1  ...        0         0           0         0  \\\n",
              "1            1            1  ...        1         0           0         0   \n",
              "2            1            1  ...        0         0           0         0   \n",
              "3            1            1  ...        1         0           0         0   \n",
              "4            1            1  ...        0         0           0         0   \n",
              "5            1            1  ...        0         0           0         0   \n",
              "6            1            1  ...        1         1           0         0   \n",
              "7            1            1  ...        1         0           0         0   \n",
              "8            1            1  ...        1         0           0         0   \n",
              "9            1            1  ...        0         0           0         0   \n",
              "\n",
              "   Defect  Ataxia  Conscience  Paresthesia  DPF                        Type  \n",
              "0       0       0           0            0    0  Typical aura with migraine  \n",
              "1       0       0           0            0    0  Typical aura with migraine  \n",
              "2       0       0           0            0    0  Typical aura with migraine  \n",
              "3       0       0           0            0    0  Typical aura with migraine  \n",
              "4       0       0           0            0    1  Typical aura with migraine  \n",
              "5       0       0           0            0    0       Migraine without aura  \n",
              "6       0       0           0            0    0           Basilar-type aura  \n",
              "7       0       0           0            0    1  Typical aura with migraine  \n",
              "8       0       0           0            0    1  Typical aura with migraine  \n",
              "9       0       0           0            0    0  Typical aura with migraine  \n",
              "\n",
              "[10 rows x 24 columns]"
            ]
          },
          "execution_count": 4,
          "metadata": {},
          "output_type": "execute_result"
        }
      ],
      "source": [
        "migraine.head(10)"
      ]
    },
    {
      "cell_type": "code",
      "execution_count": 5,
      "metadata": {
        "colab": {
          "base_uri": "https://localhost:8080/",
          "height": 803
        },
        "id": "Fo1Lx4Ci1gga",
        "outputId": "f35cbe63-e5ed-4ddb-f4fc-a9ca6bba4705"
      },
      "outputs": [
        {
          "data": {
            "text/html": [
              "<div>\n",
              "<style scoped>\n",
              "    .dataframe tbody tr th:only-of-type {\n",
              "        vertical-align: middle;\n",
              "    }\n",
              "\n",
              "    .dataframe tbody tr th {\n",
              "        vertical-align: top;\n",
              "    }\n",
              "\n",
              "    .dataframe thead th {\n",
              "        text-align: right;\n",
              "    }\n",
              "</style>\n",
              "<table border=\"1\" class=\"dataframe\">\n",
              "  <thead>\n",
              "    <tr style=\"text-align: right;\">\n",
              "      <th></th>\n",
              "      <th>Age</th>\n",
              "      <th>Duration</th>\n",
              "      <th>Frequency</th>\n",
              "      <th>Location</th>\n",
              "      <th>Character</th>\n",
              "      <th>Intensity</th>\n",
              "      <th>Nausea</th>\n",
              "      <th>Vomit</th>\n",
              "      <th>Phonophobia</th>\n",
              "      <th>Photophobia</th>\n",
              "      <th>...</th>\n",
              "      <th>Vertigo</th>\n",
              "      <th>Tinnitus</th>\n",
              "      <th>Hypoacusis</th>\n",
              "      <th>Diplopia</th>\n",
              "      <th>Defect</th>\n",
              "      <th>Ataxia</th>\n",
              "      <th>Conscience</th>\n",
              "      <th>Paresthesia</th>\n",
              "      <th>DPF</th>\n",
              "      <th>Type</th>\n",
              "    </tr>\n",
              "  </thead>\n",
              "  <tbody>\n",
              "    <tr>\n",
              "      <th>390</th>\n",
              "      <td>40</td>\n",
              "      <td>2</td>\n",
              "      <td>2</td>\n",
              "      <td>1</td>\n",
              "      <td>1</td>\n",
              "      <td>3</td>\n",
              "      <td>1</td>\n",
              "      <td>0</td>\n",
              "      <td>1</td>\n",
              "      <td>1</td>\n",
              "      <td>...</td>\n",
              "      <td>0</td>\n",
              "      <td>1</td>\n",
              "      <td>0</td>\n",
              "      <td>0</td>\n",
              "      <td>0</td>\n",
              "      <td>0</td>\n",
              "      <td>1</td>\n",
              "      <td>0</td>\n",
              "      <td>1</td>\n",
              "      <td>Basilar-type aura</td>\n",
              "    </tr>\n",
              "    <tr>\n",
              "      <th>391</th>\n",
              "      <td>34</td>\n",
              "      <td>1</td>\n",
              "      <td>1</td>\n",
              "      <td>1</td>\n",
              "      <td>1</td>\n",
              "      <td>3</td>\n",
              "      <td>1</td>\n",
              "      <td>0</td>\n",
              "      <td>1</td>\n",
              "      <td>1</td>\n",
              "      <td>...</td>\n",
              "      <td>1</td>\n",
              "      <td>0</td>\n",
              "      <td>1</td>\n",
              "      <td>0</td>\n",
              "      <td>1</td>\n",
              "      <td>0</td>\n",
              "      <td>1</td>\n",
              "      <td>0</td>\n",
              "      <td>0</td>\n",
              "      <td>Basilar-type aura</td>\n",
              "    </tr>\n",
              "    <tr>\n",
              "      <th>392</th>\n",
              "      <td>20</td>\n",
              "      <td>3</td>\n",
              "      <td>2</td>\n",
              "      <td>1</td>\n",
              "      <td>1</td>\n",
              "      <td>3</td>\n",
              "      <td>1</td>\n",
              "      <td>0</td>\n",
              "      <td>1</td>\n",
              "      <td>1</td>\n",
              "      <td>...</td>\n",
              "      <td>1</td>\n",
              "      <td>1</td>\n",
              "      <td>0</td>\n",
              "      <td>0</td>\n",
              "      <td>0</td>\n",
              "      <td>0</td>\n",
              "      <td>0</td>\n",
              "      <td>0</td>\n",
              "      <td>1</td>\n",
              "      <td>Basilar-type aura</td>\n",
              "    </tr>\n",
              "    <tr>\n",
              "      <th>393</th>\n",
              "      <td>36</td>\n",
              "      <td>3</td>\n",
              "      <td>1</td>\n",
              "      <td>1</td>\n",
              "      <td>1</td>\n",
              "      <td>3</td>\n",
              "      <td>1</td>\n",
              "      <td>0</td>\n",
              "      <td>1</td>\n",
              "      <td>1</td>\n",
              "      <td>...</td>\n",
              "      <td>1</td>\n",
              "      <td>0</td>\n",
              "      <td>0</td>\n",
              "      <td>1</td>\n",
              "      <td>1</td>\n",
              "      <td>0</td>\n",
              "      <td>0</td>\n",
              "      <td>0</td>\n",
              "      <td>1</td>\n",
              "      <td>Basilar-type aura</td>\n",
              "    </tr>\n",
              "    <tr>\n",
              "      <th>394</th>\n",
              "      <td>38</td>\n",
              "      <td>3</td>\n",
              "      <td>1</td>\n",
              "      <td>1</td>\n",
              "      <td>1</td>\n",
              "      <td>3</td>\n",
              "      <td>1</td>\n",
              "      <td>0</td>\n",
              "      <td>1</td>\n",
              "      <td>1</td>\n",
              "      <td>...</td>\n",
              "      <td>1</td>\n",
              "      <td>0</td>\n",
              "      <td>0</td>\n",
              "      <td>0</td>\n",
              "      <td>1</td>\n",
              "      <td>0</td>\n",
              "      <td>0</td>\n",
              "      <td>0</td>\n",
              "      <td>1</td>\n",
              "      <td>Basilar-type aura</td>\n",
              "    </tr>\n",
              "    <tr>\n",
              "      <th>395</th>\n",
              "      <td>39</td>\n",
              "      <td>1</td>\n",
              "      <td>1</td>\n",
              "      <td>1</td>\n",
              "      <td>1</td>\n",
              "      <td>3</td>\n",
              "      <td>1</td>\n",
              "      <td>1</td>\n",
              "      <td>1</td>\n",
              "      <td>1</td>\n",
              "      <td>...</td>\n",
              "      <td>1</td>\n",
              "      <td>0</td>\n",
              "      <td>0</td>\n",
              "      <td>1</td>\n",
              "      <td>0</td>\n",
              "      <td>0</td>\n",
              "      <td>0</td>\n",
              "      <td>0</td>\n",
              "      <td>1</td>\n",
              "      <td>Basilar-type aura</td>\n",
              "    </tr>\n",
              "    <tr>\n",
              "      <th>396</th>\n",
              "      <td>20</td>\n",
              "      <td>3</td>\n",
              "      <td>2</td>\n",
              "      <td>1</td>\n",
              "      <td>1</td>\n",
              "      <td>3</td>\n",
              "      <td>1</td>\n",
              "      <td>0</td>\n",
              "      <td>1</td>\n",
              "      <td>1</td>\n",
              "      <td>...</td>\n",
              "      <td>0</td>\n",
              "      <td>1</td>\n",
              "      <td>1</td>\n",
              "      <td>0</td>\n",
              "      <td>0</td>\n",
              "      <td>0</td>\n",
              "      <td>0</td>\n",
              "      <td>0</td>\n",
              "      <td>1</td>\n",
              "      <td>Basilar-type aura</td>\n",
              "    </tr>\n",
              "    <tr>\n",
              "      <th>397</th>\n",
              "      <td>28</td>\n",
              "      <td>3</td>\n",
              "      <td>2</td>\n",
              "      <td>1</td>\n",
              "      <td>1</td>\n",
              "      <td>3</td>\n",
              "      <td>1</td>\n",
              "      <td>0</td>\n",
              "      <td>1</td>\n",
              "      <td>1</td>\n",
              "      <td>...</td>\n",
              "      <td>1</td>\n",
              "      <td>0</td>\n",
              "      <td>0</td>\n",
              "      <td>0</td>\n",
              "      <td>1</td>\n",
              "      <td>0</td>\n",
              "      <td>0</td>\n",
              "      <td>0</td>\n",
              "      <td>1</td>\n",
              "      <td>Basilar-type aura</td>\n",
              "    </tr>\n",
              "    <tr>\n",
              "      <th>398</th>\n",
              "      <td>20</td>\n",
              "      <td>3</td>\n",
              "      <td>1</td>\n",
              "      <td>1</td>\n",
              "      <td>1</td>\n",
              "      <td>3</td>\n",
              "      <td>1</td>\n",
              "      <td>0</td>\n",
              "      <td>1</td>\n",
              "      <td>1</td>\n",
              "      <td>...</td>\n",
              "      <td>1</td>\n",
              "      <td>0</td>\n",
              "      <td>0</td>\n",
              "      <td>0</td>\n",
              "      <td>0</td>\n",
              "      <td>0</td>\n",
              "      <td>0</td>\n",
              "      <td>1</td>\n",
              "      <td>1</td>\n",
              "      <td>Basilar-type aura</td>\n",
              "    </tr>\n",
              "    <tr>\n",
              "      <th>399</th>\n",
              "      <td>37</td>\n",
              "      <td>1</td>\n",
              "      <td>1</td>\n",
              "      <td>1</td>\n",
              "      <td>1</td>\n",
              "      <td>3</td>\n",
              "      <td>1</td>\n",
              "      <td>1</td>\n",
              "      <td>1</td>\n",
              "      <td>1</td>\n",
              "      <td>...</td>\n",
              "      <td>1</td>\n",
              "      <td>0</td>\n",
              "      <td>0</td>\n",
              "      <td>0</td>\n",
              "      <td>0</td>\n",
              "      <td>0</td>\n",
              "      <td>1</td>\n",
              "      <td>0</td>\n",
              "      <td>1</td>\n",
              "      <td>Basilar-type aura</td>\n",
              "    </tr>\n",
              "  </tbody>\n",
              "</table>\n",
              "<p>10 rows × 24 columns</p>\n",
              "</div>"
            ],
            "text/plain": [
              "     Age  Duration  Frequency  Location  Character  Intensity  Nausea  Vomit   \n",
              "390   40         2          2         1          1          3       1      0  \\\n",
              "391   34         1          1         1          1          3       1      0   \n",
              "392   20         3          2         1          1          3       1      0   \n",
              "393   36         3          1         1          1          3       1      0   \n",
              "394   38         3          1         1          1          3       1      0   \n",
              "395   39         1          1         1          1          3       1      1   \n",
              "396   20         3          2         1          1          3       1      0   \n",
              "397   28         3          2         1          1          3       1      0   \n",
              "398   20         3          1         1          1          3       1      0   \n",
              "399   37         1          1         1          1          3       1      1   \n",
              "\n",
              "     Phonophobia  Photophobia  ...  Vertigo  Tinnitus  Hypoacusis  Diplopia   \n",
              "390            1            1  ...        0         1           0         0  \\\n",
              "391            1            1  ...        1         0           1         0   \n",
              "392            1            1  ...        1         1           0         0   \n",
              "393            1            1  ...        1         0           0         1   \n",
              "394            1            1  ...        1         0           0         0   \n",
              "395            1            1  ...        1         0           0         1   \n",
              "396            1            1  ...        0         1           1         0   \n",
              "397            1            1  ...        1         0           0         0   \n",
              "398            1            1  ...        1         0           0         0   \n",
              "399            1            1  ...        1         0           0         0   \n",
              "\n",
              "     Defect  Ataxia  Conscience  Paresthesia  DPF               Type  \n",
              "390       0       0           1            0    1  Basilar-type aura  \n",
              "391       1       0           1            0    0  Basilar-type aura  \n",
              "392       0       0           0            0    1  Basilar-type aura  \n",
              "393       1       0           0            0    1  Basilar-type aura  \n",
              "394       1       0           0            0    1  Basilar-type aura  \n",
              "395       0       0           0            0    1  Basilar-type aura  \n",
              "396       0       0           0            0    1  Basilar-type aura  \n",
              "397       1       0           0            0    1  Basilar-type aura  \n",
              "398       0       0           0            1    1  Basilar-type aura  \n",
              "399       0       0           1            0    1  Basilar-type aura  \n",
              "\n",
              "[10 rows x 24 columns]"
            ]
          },
          "execution_count": 5,
          "metadata": {},
          "output_type": "execute_result"
        }
      ],
      "source": [
        "migraine.tail(10)"
      ]
    },
    {
      "cell_type": "code",
      "execution_count": 6,
      "metadata": {
        "colab": {
          "base_uri": "https://localhost:8080/"
        },
        "id": "GvMkPTiw1xWF",
        "outputId": "5e0044e5-718b-4165-c41e-a1b46341bdd9"
      },
      "outputs": [
        {
          "name": "stdout",
          "output_type": "stream",
          "text": [
            "<class 'pandas.core.frame.DataFrame'>\n",
            "RangeIndex: 400 entries, 0 to 399\n",
            "Data columns (total 24 columns):\n",
            " #   Column       Non-Null Count  Dtype \n",
            "---  ------       --------------  ----- \n",
            " 0   Age          400 non-null    int64 \n",
            " 1   Duration     400 non-null    int64 \n",
            " 2   Frequency    400 non-null    int64 \n",
            " 3   Location     400 non-null    int64 \n",
            " 4   Character    400 non-null    int64 \n",
            " 5   Intensity    400 non-null    int64 \n",
            " 6   Nausea       400 non-null    int64 \n",
            " 7   Vomit        400 non-null    int64 \n",
            " 8   Phonophobia  400 non-null    int64 \n",
            " 9   Photophobia  400 non-null    int64 \n",
            " 10  Visual       400 non-null    int64 \n",
            " 11  Sensory      400 non-null    int64 \n",
            " 12  Dysphasia    400 non-null    int64 \n",
            " 13  Dysarthria   400 non-null    int64 \n",
            " 14  Vertigo      400 non-null    int64 \n",
            " 15  Tinnitus     400 non-null    int64 \n",
            " 16  Hypoacusis   400 non-null    int64 \n",
            " 17  Diplopia     400 non-null    int64 \n",
            " 18  Defect       400 non-null    int64 \n",
            " 19  Ataxia       400 non-null    int64 \n",
            " 20  Conscience   400 non-null    int64 \n",
            " 21  Paresthesia  400 non-null    int64 \n",
            " 22  DPF          400 non-null    int64 \n",
            " 23  Type         400 non-null    object\n",
            "dtypes: int64(23), object(1)\n",
            "memory usage: 75.1+ KB\n"
          ]
        }
      ],
      "source": [
        "migraine.info()"
      ]
    },
    {
      "attachments": {},
      "cell_type": "markdown",
      "metadata": {
        "id": "JVpOXz9XInK4"
      },
      "source": [
        "###Preparación de datos"
      ]
    },
    {
      "attachments": {},
      "cell_type": "markdown",
      "metadata": {
        "id": "hCSURiwMHxl1"
      },
      "source": [
        "La variable objetivo viene dada en cadena. Esto no es útil para el modelo, por lo cual se convertirán a valores numéricos de la siguiente manera:"
      ]
    },
    {
      "cell_type": "code",
      "execution_count": 7,
      "metadata": {
        "colab": {
          "base_uri": "https://localhost:8080/"
        },
        "id": "oej4jU3p3nC4",
        "outputId": "a5a4c8bf-809c-40d4-ad70-f7cabf23ca76"
      },
      "outputs": [
        {
          "data": {
            "text/plain": [
              "array(['Typical aura with migraine', 'Migraine without aura',\n",
              "       'Basilar-type aura', 'Sporadic hemiplegic migraine',\n",
              "       'Familial hemiplegic migraine', 'Other',\n",
              "       'Typical aura without migraine'], dtype=object)"
            ]
          },
          "execution_count": 7,
          "metadata": {},
          "output_type": "execute_result"
        }
      ],
      "source": [
        "migraine['Type'].unique() # Se buscan cuantos valores únicos hay"
      ]
    },
    {
      "cell_type": "code",
      "execution_count": 8,
      "metadata": {
        "colab": {
          "base_uri": "https://localhost:8080/"
        },
        "id": "pwqQ9aJk4NCu",
        "outputId": "3c4c66cf-5b04-4bd2-9502-7c08b70c8d57"
      },
      "outputs": [
        {
          "data": {
            "text/plain": [
              "7"
            ]
          },
          "execution_count": 8,
          "metadata": {},
          "output_type": "execute_result"
        }
      ],
      "source": [
        "migraine['Type'].nunique() # Y se contabilizan"
      ]
    },
    {
      "cell_type": "code",
      "execution_count": 9,
      "metadata": {
        "colab": {
          "base_uri": "https://localhost:8080/",
          "height": 36
        },
        "id": "v9ERtZ7z4l3Q",
        "outputId": "0128fbe8-cce6-4df8-ae97-4a03205f3356"
      },
      "outputs": [
        {
          "data": {
            "text/plain": [
              "'Typical aura with migraine'"
            ]
          },
          "execution_count": 9,
          "metadata": {},
          "output_type": "execute_result"
        }
      ],
      "source": [
        "migraine['Type'].unique()[0] # Se obtiene valor por valor de acuerdo a su índice en el arreglo de valores únicos"
      ]
    },
    {
      "cell_type": "code",
      "execution_count": 10,
      "metadata": {
        "colab": {
          "base_uri": "https://localhost:8080/",
          "height": 36
        },
        "id": "5a0sbdYy41SB",
        "outputId": "15b8ca6d-617a-42c9-fbac-73b52d0af458"
      },
      "outputs": [
        {
          "data": {
            "text/plain": [
              "'Migraine without aura'"
            ]
          },
          "execution_count": 10,
          "metadata": {},
          "output_type": "execute_result"
        }
      ],
      "source": [
        "migraine['Type'].unique()[1]"
      ]
    },
    {
      "cell_type": "code",
      "execution_count": 11,
      "metadata": {
        "colab": {
          "base_uri": "https://localhost:8080/",
          "height": 36
        },
        "id": "pL_vly4I43BB",
        "outputId": "153917bf-2d68-4ce3-ec67-0a569ffc184a"
      },
      "outputs": [
        {
          "data": {
            "text/plain": [
              "'Basilar-type aura'"
            ]
          },
          "execution_count": 11,
          "metadata": {},
          "output_type": "execute_result"
        }
      ],
      "source": [
        "migraine['Type'].unique()[2]"
      ]
    },
    {
      "cell_type": "code",
      "execution_count": 12,
      "metadata": {
        "colab": {
          "base_uri": "https://localhost:8080/",
          "height": 36
        },
        "id": "-c2uiRbi44qY",
        "outputId": "e1f45f95-2056-45a7-a0b1-2393fb15884c"
      },
      "outputs": [
        {
          "data": {
            "text/plain": [
              "'Sporadic hemiplegic migraine'"
            ]
          },
          "execution_count": 12,
          "metadata": {},
          "output_type": "execute_result"
        }
      ],
      "source": [
        "migraine['Type'].unique()[3]"
      ]
    },
    {
      "cell_type": "code",
      "execution_count": 13,
      "metadata": {
        "colab": {
          "base_uri": "https://localhost:8080/",
          "height": 36
        },
        "id": "DkPt_NZJ45p9",
        "outputId": "5c78ec31-6e14-486a-8970-e049700f5f28"
      },
      "outputs": [
        {
          "data": {
            "text/plain": [
              "'Familial hemiplegic migraine'"
            ]
          },
          "execution_count": 13,
          "metadata": {},
          "output_type": "execute_result"
        }
      ],
      "source": [
        "migraine['Type'].unique()[4]"
      ]
    },
    {
      "cell_type": "code",
      "execution_count": 14,
      "metadata": {
        "colab": {
          "base_uri": "https://localhost:8080/",
          "height": 36
        },
        "id": "YwxN9Mld46l7",
        "outputId": "9635a19a-73e5-461d-8734-c6117a042b10"
      },
      "outputs": [
        {
          "data": {
            "text/plain": [
              "'Other'"
            ]
          },
          "execution_count": 14,
          "metadata": {},
          "output_type": "execute_result"
        }
      ],
      "source": [
        "migraine['Type'].unique()[5]"
      ]
    },
    {
      "cell_type": "code",
      "execution_count": 15,
      "metadata": {
        "colab": {
          "base_uri": "https://localhost:8080/",
          "height": 36
        },
        "id": "Y6pkNOV647iA",
        "outputId": "9e2c3865-6ba4-4e46-ce9c-a76bdec6bc8f"
      },
      "outputs": [
        {
          "data": {
            "text/plain": [
              "'Typical aura without migraine'"
            ]
          },
          "execution_count": 15,
          "metadata": {},
          "output_type": "execute_result"
        }
      ],
      "source": [
        "migraine['Type'].unique()[6]"
      ]
    },
    {
      "cell_type": "code",
      "execution_count": 16,
      "metadata": {
        "id": "2V25aPxv28lf"
      },
      "outputs": [],
      "source": [
        "# Cada cadena referente al tipo de migraña es sustituida por un valor numérico\n",
        "# Este valor es equivalente al ínidice que tenía el tipo de migraña en el arreglo de valores únicos.\n",
        "migraine.loc[migraine.Type == migraine['Type'].unique()[0], 'Type'] = 0\n",
        "migraine.loc[migraine.Type == migraine['Type'].unique()[1], 'Type'] = 1\n",
        "migraine.loc[migraine.Type == migraine['Type'].unique()[2], 'Type'] = 2\n",
        "migraine.loc[migraine.Type == migraine['Type'].unique()[3], 'Type'] = 3\n",
        "migraine.loc[migraine.Type == migraine['Type'].unique()[4], 'Type'] = 4\n",
        "migraine.loc[migraine.Type == migraine['Type'].unique()[5], 'Type'] = 5\n",
        "migraine.loc[migraine.Type == migraine['Type'].unique()[6], 'Type'] = 6"
      ]
    },
    {
      "attachments": {},
      "cell_type": "markdown",
      "metadata": {
        "id": "3zVY1yJvIqmM"
      },
      "source": [
        "Al observar los primeros y último datos, se puede corroborar que las cadenas fueron sustituídas por valores numéricos"
      ]
    },
    {
      "cell_type": "code",
      "execution_count": 17,
      "metadata": {
        "colab": {
          "base_uri": "https://localhost:8080/",
          "height": 456
        },
        "id": "H-uNRDAp6E2E",
        "outputId": "85a7f64c-75ee-449c-8b90-45059518023e"
      },
      "outputs": [
        {
          "data": {
            "text/html": [
              "<div>\n",
              "<style scoped>\n",
              "    .dataframe tbody tr th:only-of-type {\n",
              "        vertical-align: middle;\n",
              "    }\n",
              "\n",
              "    .dataframe tbody tr th {\n",
              "        vertical-align: top;\n",
              "    }\n",
              "\n",
              "    .dataframe thead th {\n",
              "        text-align: right;\n",
              "    }\n",
              "</style>\n",
              "<table border=\"1\" class=\"dataframe\">\n",
              "  <thead>\n",
              "    <tr style=\"text-align: right;\">\n",
              "      <th></th>\n",
              "      <th>Age</th>\n",
              "      <th>Duration</th>\n",
              "      <th>Frequency</th>\n",
              "      <th>Location</th>\n",
              "      <th>Character</th>\n",
              "      <th>Intensity</th>\n",
              "      <th>Nausea</th>\n",
              "      <th>Vomit</th>\n",
              "      <th>Phonophobia</th>\n",
              "      <th>Photophobia</th>\n",
              "      <th>...</th>\n",
              "      <th>Vertigo</th>\n",
              "      <th>Tinnitus</th>\n",
              "      <th>Hypoacusis</th>\n",
              "      <th>Diplopia</th>\n",
              "      <th>Defect</th>\n",
              "      <th>Ataxia</th>\n",
              "      <th>Conscience</th>\n",
              "      <th>Paresthesia</th>\n",
              "      <th>DPF</th>\n",
              "      <th>Type</th>\n",
              "    </tr>\n",
              "  </thead>\n",
              "  <tbody>\n",
              "    <tr>\n",
              "      <th>0</th>\n",
              "      <td>30</td>\n",
              "      <td>1</td>\n",
              "      <td>5</td>\n",
              "      <td>1</td>\n",
              "      <td>1</td>\n",
              "      <td>2</td>\n",
              "      <td>1</td>\n",
              "      <td>0</td>\n",
              "      <td>1</td>\n",
              "      <td>1</td>\n",
              "      <td>...</td>\n",
              "      <td>0</td>\n",
              "      <td>0</td>\n",
              "      <td>0</td>\n",
              "      <td>0</td>\n",
              "      <td>0</td>\n",
              "      <td>0</td>\n",
              "      <td>0</td>\n",
              "      <td>0</td>\n",
              "      <td>0</td>\n",
              "      <td>0</td>\n",
              "    </tr>\n",
              "    <tr>\n",
              "      <th>1</th>\n",
              "      <td>50</td>\n",
              "      <td>3</td>\n",
              "      <td>5</td>\n",
              "      <td>1</td>\n",
              "      <td>1</td>\n",
              "      <td>3</td>\n",
              "      <td>1</td>\n",
              "      <td>1</td>\n",
              "      <td>1</td>\n",
              "      <td>1</td>\n",
              "      <td>...</td>\n",
              "      <td>1</td>\n",
              "      <td>0</td>\n",
              "      <td>0</td>\n",
              "      <td>0</td>\n",
              "      <td>0</td>\n",
              "      <td>0</td>\n",
              "      <td>0</td>\n",
              "      <td>0</td>\n",
              "      <td>0</td>\n",
              "      <td>0</td>\n",
              "    </tr>\n",
              "    <tr>\n",
              "      <th>2</th>\n",
              "      <td>53</td>\n",
              "      <td>2</td>\n",
              "      <td>1</td>\n",
              "      <td>1</td>\n",
              "      <td>1</td>\n",
              "      <td>2</td>\n",
              "      <td>1</td>\n",
              "      <td>1</td>\n",
              "      <td>1</td>\n",
              "      <td>1</td>\n",
              "      <td>...</td>\n",
              "      <td>0</td>\n",
              "      <td>0</td>\n",
              "      <td>0</td>\n",
              "      <td>0</td>\n",
              "      <td>0</td>\n",
              "      <td>0</td>\n",
              "      <td>0</td>\n",
              "      <td>0</td>\n",
              "      <td>0</td>\n",
              "      <td>0</td>\n",
              "    </tr>\n",
              "    <tr>\n",
              "      <th>3</th>\n",
              "      <td>45</td>\n",
              "      <td>3</td>\n",
              "      <td>5</td>\n",
              "      <td>1</td>\n",
              "      <td>1</td>\n",
              "      <td>3</td>\n",
              "      <td>1</td>\n",
              "      <td>0</td>\n",
              "      <td>1</td>\n",
              "      <td>1</td>\n",
              "      <td>...</td>\n",
              "      <td>1</td>\n",
              "      <td>0</td>\n",
              "      <td>0</td>\n",
              "      <td>0</td>\n",
              "      <td>0</td>\n",
              "      <td>0</td>\n",
              "      <td>0</td>\n",
              "      <td>0</td>\n",
              "      <td>0</td>\n",
              "      <td>0</td>\n",
              "    </tr>\n",
              "    <tr>\n",
              "      <th>4</th>\n",
              "      <td>53</td>\n",
              "      <td>1</td>\n",
              "      <td>1</td>\n",
              "      <td>1</td>\n",
              "      <td>1</td>\n",
              "      <td>2</td>\n",
              "      <td>1</td>\n",
              "      <td>0</td>\n",
              "      <td>1</td>\n",
              "      <td>1</td>\n",
              "      <td>...</td>\n",
              "      <td>0</td>\n",
              "      <td>0</td>\n",
              "      <td>0</td>\n",
              "      <td>0</td>\n",
              "      <td>0</td>\n",
              "      <td>0</td>\n",
              "      <td>0</td>\n",
              "      <td>0</td>\n",
              "      <td>1</td>\n",
              "      <td>0</td>\n",
              "    </tr>\n",
              "    <tr>\n",
              "      <th>5</th>\n",
              "      <td>49</td>\n",
              "      <td>1</td>\n",
              "      <td>1</td>\n",
              "      <td>1</td>\n",
              "      <td>1</td>\n",
              "      <td>3</td>\n",
              "      <td>1</td>\n",
              "      <td>0</td>\n",
              "      <td>1</td>\n",
              "      <td>1</td>\n",
              "      <td>...</td>\n",
              "      <td>0</td>\n",
              "      <td>0</td>\n",
              "      <td>0</td>\n",
              "      <td>0</td>\n",
              "      <td>0</td>\n",
              "      <td>0</td>\n",
              "      <td>0</td>\n",
              "      <td>0</td>\n",
              "      <td>0</td>\n",
              "      <td>1</td>\n",
              "    </tr>\n",
              "    <tr>\n",
              "      <th>6</th>\n",
              "      <td>27</td>\n",
              "      <td>1</td>\n",
              "      <td>5</td>\n",
              "      <td>1</td>\n",
              "      <td>1</td>\n",
              "      <td>3</td>\n",
              "      <td>1</td>\n",
              "      <td>0</td>\n",
              "      <td>1</td>\n",
              "      <td>1</td>\n",
              "      <td>...</td>\n",
              "      <td>1</td>\n",
              "      <td>1</td>\n",
              "      <td>0</td>\n",
              "      <td>0</td>\n",
              "      <td>0</td>\n",
              "      <td>0</td>\n",
              "      <td>0</td>\n",
              "      <td>0</td>\n",
              "      <td>0</td>\n",
              "      <td>2</td>\n",
              "    </tr>\n",
              "    <tr>\n",
              "      <th>7</th>\n",
              "      <td>24</td>\n",
              "      <td>1</td>\n",
              "      <td>1</td>\n",
              "      <td>1</td>\n",
              "      <td>1</td>\n",
              "      <td>2</td>\n",
              "      <td>1</td>\n",
              "      <td>0</td>\n",
              "      <td>1</td>\n",
              "      <td>1</td>\n",
              "      <td>...</td>\n",
              "      <td>1</td>\n",
              "      <td>0</td>\n",
              "      <td>0</td>\n",
              "      <td>0</td>\n",
              "      <td>0</td>\n",
              "      <td>0</td>\n",
              "      <td>0</td>\n",
              "      <td>0</td>\n",
              "      <td>1</td>\n",
              "      <td>0</td>\n",
              "    </tr>\n",
              "    <tr>\n",
              "      <th>8</th>\n",
              "      <td>50</td>\n",
              "      <td>1</td>\n",
              "      <td>5</td>\n",
              "      <td>1</td>\n",
              "      <td>1</td>\n",
              "      <td>2</td>\n",
              "      <td>1</td>\n",
              "      <td>1</td>\n",
              "      <td>1</td>\n",
              "      <td>1</td>\n",
              "      <td>...</td>\n",
              "      <td>1</td>\n",
              "      <td>0</td>\n",
              "      <td>0</td>\n",
              "      <td>0</td>\n",
              "      <td>0</td>\n",
              "      <td>0</td>\n",
              "      <td>0</td>\n",
              "      <td>0</td>\n",
              "      <td>1</td>\n",
              "      <td>0</td>\n",
              "    </tr>\n",
              "    <tr>\n",
              "      <th>9</th>\n",
              "      <td>23</td>\n",
              "      <td>1</td>\n",
              "      <td>1</td>\n",
              "      <td>1</td>\n",
              "      <td>1</td>\n",
              "      <td>3</td>\n",
              "      <td>1</td>\n",
              "      <td>1</td>\n",
              "      <td>1</td>\n",
              "      <td>1</td>\n",
              "      <td>...</td>\n",
              "      <td>0</td>\n",
              "      <td>0</td>\n",
              "      <td>0</td>\n",
              "      <td>0</td>\n",
              "      <td>0</td>\n",
              "      <td>0</td>\n",
              "      <td>0</td>\n",
              "      <td>0</td>\n",
              "      <td>0</td>\n",
              "      <td>0</td>\n",
              "    </tr>\n",
              "  </tbody>\n",
              "</table>\n",
              "<p>10 rows × 24 columns</p>\n",
              "</div>"
            ],
            "text/plain": [
              "   Age  Duration  Frequency  Location  Character  Intensity  Nausea  Vomit   \n",
              "0   30         1          5         1          1          2       1      0  \\\n",
              "1   50         3          5         1          1          3       1      1   \n",
              "2   53         2          1         1          1          2       1      1   \n",
              "3   45         3          5         1          1          3       1      0   \n",
              "4   53         1          1         1          1          2       1      0   \n",
              "5   49         1          1         1          1          3       1      0   \n",
              "6   27         1          5         1          1          3       1      0   \n",
              "7   24         1          1         1          1          2       1      0   \n",
              "8   50         1          5         1          1          2       1      1   \n",
              "9   23         1          1         1          1          3       1      1   \n",
              "\n",
              "   Phonophobia  Photophobia  ...  Vertigo  Tinnitus  Hypoacusis  Diplopia   \n",
              "0            1            1  ...        0         0           0         0  \\\n",
              "1            1            1  ...        1         0           0         0   \n",
              "2            1            1  ...        0         0           0         0   \n",
              "3            1            1  ...        1         0           0         0   \n",
              "4            1            1  ...        0         0           0         0   \n",
              "5            1            1  ...        0         0           0         0   \n",
              "6            1            1  ...        1         1           0         0   \n",
              "7            1            1  ...        1         0           0         0   \n",
              "8            1            1  ...        1         0           0         0   \n",
              "9            1            1  ...        0         0           0         0   \n",
              "\n",
              "   Defect  Ataxia  Conscience  Paresthesia  DPF  Type  \n",
              "0       0       0           0            0    0     0  \n",
              "1       0       0           0            0    0     0  \n",
              "2       0       0           0            0    0     0  \n",
              "3       0       0           0            0    0     0  \n",
              "4       0       0           0            0    1     0  \n",
              "5       0       0           0            0    0     1  \n",
              "6       0       0           0            0    0     2  \n",
              "7       0       0           0            0    1     0  \n",
              "8       0       0           0            0    1     0  \n",
              "9       0       0           0            0    0     0  \n",
              "\n",
              "[10 rows x 24 columns]"
            ]
          },
          "execution_count": 17,
          "metadata": {},
          "output_type": "execute_result"
        }
      ],
      "source": [
        "migraine.head(10) "
      ]
    },
    {
      "cell_type": "code",
      "execution_count": 18,
      "metadata": {
        "colab": {
          "base_uri": "https://localhost:8080/",
          "height": 456
        },
        "id": "ot0uSuZ96Ixy",
        "outputId": "795db8e9-c5a1-438b-f63c-2b297471edc0"
      },
      "outputs": [
        {
          "data": {
            "text/html": [
              "<div>\n",
              "<style scoped>\n",
              "    .dataframe tbody tr th:only-of-type {\n",
              "        vertical-align: middle;\n",
              "    }\n",
              "\n",
              "    .dataframe tbody tr th {\n",
              "        vertical-align: top;\n",
              "    }\n",
              "\n",
              "    .dataframe thead th {\n",
              "        text-align: right;\n",
              "    }\n",
              "</style>\n",
              "<table border=\"1\" class=\"dataframe\">\n",
              "  <thead>\n",
              "    <tr style=\"text-align: right;\">\n",
              "      <th></th>\n",
              "      <th>Age</th>\n",
              "      <th>Duration</th>\n",
              "      <th>Frequency</th>\n",
              "      <th>Location</th>\n",
              "      <th>Character</th>\n",
              "      <th>Intensity</th>\n",
              "      <th>Nausea</th>\n",
              "      <th>Vomit</th>\n",
              "      <th>Phonophobia</th>\n",
              "      <th>Photophobia</th>\n",
              "      <th>...</th>\n",
              "      <th>Vertigo</th>\n",
              "      <th>Tinnitus</th>\n",
              "      <th>Hypoacusis</th>\n",
              "      <th>Diplopia</th>\n",
              "      <th>Defect</th>\n",
              "      <th>Ataxia</th>\n",
              "      <th>Conscience</th>\n",
              "      <th>Paresthesia</th>\n",
              "      <th>DPF</th>\n",
              "      <th>Type</th>\n",
              "    </tr>\n",
              "  </thead>\n",
              "  <tbody>\n",
              "    <tr>\n",
              "      <th>390</th>\n",
              "      <td>40</td>\n",
              "      <td>2</td>\n",
              "      <td>2</td>\n",
              "      <td>1</td>\n",
              "      <td>1</td>\n",
              "      <td>3</td>\n",
              "      <td>1</td>\n",
              "      <td>0</td>\n",
              "      <td>1</td>\n",
              "      <td>1</td>\n",
              "      <td>...</td>\n",
              "      <td>0</td>\n",
              "      <td>1</td>\n",
              "      <td>0</td>\n",
              "      <td>0</td>\n",
              "      <td>0</td>\n",
              "      <td>0</td>\n",
              "      <td>1</td>\n",
              "      <td>0</td>\n",
              "      <td>1</td>\n",
              "      <td>2</td>\n",
              "    </tr>\n",
              "    <tr>\n",
              "      <th>391</th>\n",
              "      <td>34</td>\n",
              "      <td>1</td>\n",
              "      <td>1</td>\n",
              "      <td>1</td>\n",
              "      <td>1</td>\n",
              "      <td>3</td>\n",
              "      <td>1</td>\n",
              "      <td>0</td>\n",
              "      <td>1</td>\n",
              "      <td>1</td>\n",
              "      <td>...</td>\n",
              "      <td>1</td>\n",
              "      <td>0</td>\n",
              "      <td>1</td>\n",
              "      <td>0</td>\n",
              "      <td>1</td>\n",
              "      <td>0</td>\n",
              "      <td>1</td>\n",
              "      <td>0</td>\n",
              "      <td>0</td>\n",
              "      <td>2</td>\n",
              "    </tr>\n",
              "    <tr>\n",
              "      <th>392</th>\n",
              "      <td>20</td>\n",
              "      <td>3</td>\n",
              "      <td>2</td>\n",
              "      <td>1</td>\n",
              "      <td>1</td>\n",
              "      <td>3</td>\n",
              "      <td>1</td>\n",
              "      <td>0</td>\n",
              "      <td>1</td>\n",
              "      <td>1</td>\n",
              "      <td>...</td>\n",
              "      <td>1</td>\n",
              "      <td>1</td>\n",
              "      <td>0</td>\n",
              "      <td>0</td>\n",
              "      <td>0</td>\n",
              "      <td>0</td>\n",
              "      <td>0</td>\n",
              "      <td>0</td>\n",
              "      <td>1</td>\n",
              "      <td>2</td>\n",
              "    </tr>\n",
              "    <tr>\n",
              "      <th>393</th>\n",
              "      <td>36</td>\n",
              "      <td>3</td>\n",
              "      <td>1</td>\n",
              "      <td>1</td>\n",
              "      <td>1</td>\n",
              "      <td>3</td>\n",
              "      <td>1</td>\n",
              "      <td>0</td>\n",
              "      <td>1</td>\n",
              "      <td>1</td>\n",
              "      <td>...</td>\n",
              "      <td>1</td>\n",
              "      <td>0</td>\n",
              "      <td>0</td>\n",
              "      <td>1</td>\n",
              "      <td>1</td>\n",
              "      <td>0</td>\n",
              "      <td>0</td>\n",
              "      <td>0</td>\n",
              "      <td>1</td>\n",
              "      <td>2</td>\n",
              "    </tr>\n",
              "    <tr>\n",
              "      <th>394</th>\n",
              "      <td>38</td>\n",
              "      <td>3</td>\n",
              "      <td>1</td>\n",
              "      <td>1</td>\n",
              "      <td>1</td>\n",
              "      <td>3</td>\n",
              "      <td>1</td>\n",
              "      <td>0</td>\n",
              "      <td>1</td>\n",
              "      <td>1</td>\n",
              "      <td>...</td>\n",
              "      <td>1</td>\n",
              "      <td>0</td>\n",
              "      <td>0</td>\n",
              "      <td>0</td>\n",
              "      <td>1</td>\n",
              "      <td>0</td>\n",
              "      <td>0</td>\n",
              "      <td>0</td>\n",
              "      <td>1</td>\n",
              "      <td>2</td>\n",
              "    </tr>\n",
              "    <tr>\n",
              "      <th>395</th>\n",
              "      <td>39</td>\n",
              "      <td>1</td>\n",
              "      <td>1</td>\n",
              "      <td>1</td>\n",
              "      <td>1</td>\n",
              "      <td>3</td>\n",
              "      <td>1</td>\n",
              "      <td>1</td>\n",
              "      <td>1</td>\n",
              "      <td>1</td>\n",
              "      <td>...</td>\n",
              "      <td>1</td>\n",
              "      <td>0</td>\n",
              "      <td>0</td>\n",
              "      <td>1</td>\n",
              "      <td>0</td>\n",
              "      <td>0</td>\n",
              "      <td>0</td>\n",
              "      <td>0</td>\n",
              "      <td>1</td>\n",
              "      <td>2</td>\n",
              "    </tr>\n",
              "    <tr>\n",
              "      <th>396</th>\n",
              "      <td>20</td>\n",
              "      <td>3</td>\n",
              "      <td>2</td>\n",
              "      <td>1</td>\n",
              "      <td>1</td>\n",
              "      <td>3</td>\n",
              "      <td>1</td>\n",
              "      <td>0</td>\n",
              "      <td>1</td>\n",
              "      <td>1</td>\n",
              "      <td>...</td>\n",
              "      <td>0</td>\n",
              "      <td>1</td>\n",
              "      <td>1</td>\n",
              "      <td>0</td>\n",
              "      <td>0</td>\n",
              "      <td>0</td>\n",
              "      <td>0</td>\n",
              "      <td>0</td>\n",
              "      <td>1</td>\n",
              "      <td>2</td>\n",
              "    </tr>\n",
              "    <tr>\n",
              "      <th>397</th>\n",
              "      <td>28</td>\n",
              "      <td>3</td>\n",
              "      <td>2</td>\n",
              "      <td>1</td>\n",
              "      <td>1</td>\n",
              "      <td>3</td>\n",
              "      <td>1</td>\n",
              "      <td>0</td>\n",
              "      <td>1</td>\n",
              "      <td>1</td>\n",
              "      <td>...</td>\n",
              "      <td>1</td>\n",
              "      <td>0</td>\n",
              "      <td>0</td>\n",
              "      <td>0</td>\n",
              "      <td>1</td>\n",
              "      <td>0</td>\n",
              "      <td>0</td>\n",
              "      <td>0</td>\n",
              "      <td>1</td>\n",
              "      <td>2</td>\n",
              "    </tr>\n",
              "    <tr>\n",
              "      <th>398</th>\n",
              "      <td>20</td>\n",
              "      <td>3</td>\n",
              "      <td>1</td>\n",
              "      <td>1</td>\n",
              "      <td>1</td>\n",
              "      <td>3</td>\n",
              "      <td>1</td>\n",
              "      <td>0</td>\n",
              "      <td>1</td>\n",
              "      <td>1</td>\n",
              "      <td>...</td>\n",
              "      <td>1</td>\n",
              "      <td>0</td>\n",
              "      <td>0</td>\n",
              "      <td>0</td>\n",
              "      <td>0</td>\n",
              "      <td>0</td>\n",
              "      <td>0</td>\n",
              "      <td>1</td>\n",
              "      <td>1</td>\n",
              "      <td>2</td>\n",
              "    </tr>\n",
              "    <tr>\n",
              "      <th>399</th>\n",
              "      <td>37</td>\n",
              "      <td>1</td>\n",
              "      <td>1</td>\n",
              "      <td>1</td>\n",
              "      <td>1</td>\n",
              "      <td>3</td>\n",
              "      <td>1</td>\n",
              "      <td>1</td>\n",
              "      <td>1</td>\n",
              "      <td>1</td>\n",
              "      <td>...</td>\n",
              "      <td>1</td>\n",
              "      <td>0</td>\n",
              "      <td>0</td>\n",
              "      <td>0</td>\n",
              "      <td>0</td>\n",
              "      <td>0</td>\n",
              "      <td>1</td>\n",
              "      <td>0</td>\n",
              "      <td>1</td>\n",
              "      <td>2</td>\n",
              "    </tr>\n",
              "  </tbody>\n",
              "</table>\n",
              "<p>10 rows × 24 columns</p>\n",
              "</div>"
            ],
            "text/plain": [
              "     Age  Duration  Frequency  Location  Character  Intensity  Nausea  Vomit   \n",
              "390   40         2          2         1          1          3       1      0  \\\n",
              "391   34         1          1         1          1          3       1      0   \n",
              "392   20         3          2         1          1          3       1      0   \n",
              "393   36         3          1         1          1          3       1      0   \n",
              "394   38         3          1         1          1          3       1      0   \n",
              "395   39         1          1         1          1          3       1      1   \n",
              "396   20         3          2         1          1          3       1      0   \n",
              "397   28         3          2         1          1          3       1      0   \n",
              "398   20         3          1         1          1          3       1      0   \n",
              "399   37         1          1         1          1          3       1      1   \n",
              "\n",
              "     Phonophobia  Photophobia  ...  Vertigo  Tinnitus  Hypoacusis  Diplopia   \n",
              "390            1            1  ...        0         1           0         0  \\\n",
              "391            1            1  ...        1         0           1         0   \n",
              "392            1            1  ...        1         1           0         0   \n",
              "393            1            1  ...        1         0           0         1   \n",
              "394            1            1  ...        1         0           0         0   \n",
              "395            1            1  ...        1         0           0         1   \n",
              "396            1            1  ...        0         1           1         0   \n",
              "397            1            1  ...        1         0           0         0   \n",
              "398            1            1  ...        1         0           0         0   \n",
              "399            1            1  ...        1         0           0         0   \n",
              "\n",
              "     Defect  Ataxia  Conscience  Paresthesia  DPF  Type  \n",
              "390       0       0           1            0    1     2  \n",
              "391       1       0           1            0    0     2  \n",
              "392       0       0           0            0    1     2  \n",
              "393       1       0           0            0    1     2  \n",
              "394       1       0           0            0    1     2  \n",
              "395       0       0           0            0    1     2  \n",
              "396       0       0           0            0    1     2  \n",
              "397       1       0           0            0    1     2  \n",
              "398       0       0           0            1    1     2  \n",
              "399       0       0           1            0    1     2  \n",
              "\n",
              "[10 rows x 24 columns]"
            ]
          },
          "execution_count": 18,
          "metadata": {},
          "output_type": "execute_result"
        }
      ],
      "source": [
        "migraine.tail(10)"
      ]
    },
    {
      "attachments": {},
      "cell_type": "markdown",
      "metadata": {
        "id": "kkF7AskFIzO_"
      },
      "source": [
        "###Obtención de los valores para X e y."
      ]
    },
    {
      "cell_type": "code",
      "execution_count": 19,
      "metadata": {
        "colab": {
          "base_uri": "https://localhost:8080/"
        },
        "id": "UDhySgIOAodd",
        "outputId": "9e7aa7ac-3a6b-417b-caeb-ffc0c934acf4"
      },
      "outputs": [
        {
          "data": {
            "text/plain": [
              "Index(['Age', 'Duration', 'Frequency', 'Location', 'Character', 'Intensity',\n",
              "       'Nausea', 'Vomit', 'Phonophobia', 'Photophobia', 'Visual', 'Sensory',\n",
              "       'Dysphasia', 'Dysarthria', 'Vertigo', 'Tinnitus', 'Hypoacusis',\n",
              "       'Diplopia', 'Defect', 'Ataxia', 'Conscience', 'Paresthesia', 'DPF',\n",
              "       'Type'],\n",
              "      dtype='object')"
            ]
          },
          "execution_count": 19,
          "metadata": {},
          "output_type": "execute_result"
        }
      ],
      "source": [
        "migraine.columns # Se revisa cuantas columnas hay"
      ]
    },
    {
      "cell_type": "code",
      "execution_count": 20,
      "metadata": {
        "colab": {
          "base_uri": "https://localhost:8080/",
          "height": 487
        },
        "id": "55mIbFeD_scX",
        "outputId": "f4645252-7b26-449e-b0af-cfed5287a2e0"
      },
      "outputs": [
        {
          "data": {
            "text/html": [
              "<div>\n",
              "<style scoped>\n",
              "    .dataframe tbody tr th:only-of-type {\n",
              "        vertical-align: middle;\n",
              "    }\n",
              "\n",
              "    .dataframe tbody tr th {\n",
              "        vertical-align: top;\n",
              "    }\n",
              "\n",
              "    .dataframe thead th {\n",
              "        text-align: right;\n",
              "    }\n",
              "</style>\n",
              "<table border=\"1\" class=\"dataframe\">\n",
              "  <thead>\n",
              "    <tr style=\"text-align: right;\">\n",
              "      <th></th>\n",
              "      <th>Age</th>\n",
              "      <th>Duration</th>\n",
              "      <th>Frequency</th>\n",
              "      <th>Location</th>\n",
              "      <th>Character</th>\n",
              "      <th>Intensity</th>\n",
              "      <th>Nausea</th>\n",
              "      <th>Vomit</th>\n",
              "      <th>Phonophobia</th>\n",
              "      <th>Photophobia</th>\n",
              "      <th>...</th>\n",
              "      <th>Dysarthria</th>\n",
              "      <th>Vertigo</th>\n",
              "      <th>Tinnitus</th>\n",
              "      <th>Hypoacusis</th>\n",
              "      <th>Diplopia</th>\n",
              "      <th>Defect</th>\n",
              "      <th>Ataxia</th>\n",
              "      <th>Conscience</th>\n",
              "      <th>Paresthesia</th>\n",
              "      <th>DPF</th>\n",
              "    </tr>\n",
              "  </thead>\n",
              "  <tbody>\n",
              "    <tr>\n",
              "      <th>0</th>\n",
              "      <td>30</td>\n",
              "      <td>1</td>\n",
              "      <td>5</td>\n",
              "      <td>1</td>\n",
              "      <td>1</td>\n",
              "      <td>2</td>\n",
              "      <td>1</td>\n",
              "      <td>0</td>\n",
              "      <td>1</td>\n",
              "      <td>1</td>\n",
              "      <td>...</td>\n",
              "      <td>0</td>\n",
              "      <td>0</td>\n",
              "      <td>0</td>\n",
              "      <td>0</td>\n",
              "      <td>0</td>\n",
              "      <td>0</td>\n",
              "      <td>0</td>\n",
              "      <td>0</td>\n",
              "      <td>0</td>\n",
              "      <td>0</td>\n",
              "    </tr>\n",
              "    <tr>\n",
              "      <th>1</th>\n",
              "      <td>50</td>\n",
              "      <td>3</td>\n",
              "      <td>5</td>\n",
              "      <td>1</td>\n",
              "      <td>1</td>\n",
              "      <td>3</td>\n",
              "      <td>1</td>\n",
              "      <td>1</td>\n",
              "      <td>1</td>\n",
              "      <td>1</td>\n",
              "      <td>...</td>\n",
              "      <td>0</td>\n",
              "      <td>1</td>\n",
              "      <td>0</td>\n",
              "      <td>0</td>\n",
              "      <td>0</td>\n",
              "      <td>0</td>\n",
              "      <td>0</td>\n",
              "      <td>0</td>\n",
              "      <td>0</td>\n",
              "      <td>0</td>\n",
              "    </tr>\n",
              "    <tr>\n",
              "      <th>2</th>\n",
              "      <td>53</td>\n",
              "      <td>2</td>\n",
              "      <td>1</td>\n",
              "      <td>1</td>\n",
              "      <td>1</td>\n",
              "      <td>2</td>\n",
              "      <td>1</td>\n",
              "      <td>1</td>\n",
              "      <td>1</td>\n",
              "      <td>1</td>\n",
              "      <td>...</td>\n",
              "      <td>0</td>\n",
              "      <td>0</td>\n",
              "      <td>0</td>\n",
              "      <td>0</td>\n",
              "      <td>0</td>\n",
              "      <td>0</td>\n",
              "      <td>0</td>\n",
              "      <td>0</td>\n",
              "      <td>0</td>\n",
              "      <td>0</td>\n",
              "    </tr>\n",
              "    <tr>\n",
              "      <th>3</th>\n",
              "      <td>45</td>\n",
              "      <td>3</td>\n",
              "      <td>5</td>\n",
              "      <td>1</td>\n",
              "      <td>1</td>\n",
              "      <td>3</td>\n",
              "      <td>1</td>\n",
              "      <td>0</td>\n",
              "      <td>1</td>\n",
              "      <td>1</td>\n",
              "      <td>...</td>\n",
              "      <td>0</td>\n",
              "      <td>1</td>\n",
              "      <td>0</td>\n",
              "      <td>0</td>\n",
              "      <td>0</td>\n",
              "      <td>0</td>\n",
              "      <td>0</td>\n",
              "      <td>0</td>\n",
              "      <td>0</td>\n",
              "      <td>0</td>\n",
              "    </tr>\n",
              "    <tr>\n",
              "      <th>4</th>\n",
              "      <td>53</td>\n",
              "      <td>1</td>\n",
              "      <td>1</td>\n",
              "      <td>1</td>\n",
              "      <td>1</td>\n",
              "      <td>2</td>\n",
              "      <td>1</td>\n",
              "      <td>0</td>\n",
              "      <td>1</td>\n",
              "      <td>1</td>\n",
              "      <td>...</td>\n",
              "      <td>0</td>\n",
              "      <td>0</td>\n",
              "      <td>0</td>\n",
              "      <td>0</td>\n",
              "      <td>0</td>\n",
              "      <td>0</td>\n",
              "      <td>0</td>\n",
              "      <td>0</td>\n",
              "      <td>0</td>\n",
              "      <td>1</td>\n",
              "    </tr>\n",
              "    <tr>\n",
              "      <th>...</th>\n",
              "      <td>...</td>\n",
              "      <td>...</td>\n",
              "      <td>...</td>\n",
              "      <td>...</td>\n",
              "      <td>...</td>\n",
              "      <td>...</td>\n",
              "      <td>...</td>\n",
              "      <td>...</td>\n",
              "      <td>...</td>\n",
              "      <td>...</td>\n",
              "      <td>...</td>\n",
              "      <td>...</td>\n",
              "      <td>...</td>\n",
              "      <td>...</td>\n",
              "      <td>...</td>\n",
              "      <td>...</td>\n",
              "      <td>...</td>\n",
              "      <td>...</td>\n",
              "      <td>...</td>\n",
              "      <td>...</td>\n",
              "      <td>...</td>\n",
              "    </tr>\n",
              "    <tr>\n",
              "      <th>395</th>\n",
              "      <td>39</td>\n",
              "      <td>1</td>\n",
              "      <td>1</td>\n",
              "      <td>1</td>\n",
              "      <td>1</td>\n",
              "      <td>3</td>\n",
              "      <td>1</td>\n",
              "      <td>1</td>\n",
              "      <td>1</td>\n",
              "      <td>1</td>\n",
              "      <td>...</td>\n",
              "      <td>0</td>\n",
              "      <td>1</td>\n",
              "      <td>0</td>\n",
              "      <td>0</td>\n",
              "      <td>1</td>\n",
              "      <td>0</td>\n",
              "      <td>0</td>\n",
              "      <td>0</td>\n",
              "      <td>0</td>\n",
              "      <td>1</td>\n",
              "    </tr>\n",
              "    <tr>\n",
              "      <th>396</th>\n",
              "      <td>20</td>\n",
              "      <td>3</td>\n",
              "      <td>2</td>\n",
              "      <td>1</td>\n",
              "      <td>1</td>\n",
              "      <td>3</td>\n",
              "      <td>1</td>\n",
              "      <td>0</td>\n",
              "      <td>1</td>\n",
              "      <td>1</td>\n",
              "      <td>...</td>\n",
              "      <td>0</td>\n",
              "      <td>0</td>\n",
              "      <td>1</td>\n",
              "      <td>1</td>\n",
              "      <td>0</td>\n",
              "      <td>0</td>\n",
              "      <td>0</td>\n",
              "      <td>0</td>\n",
              "      <td>0</td>\n",
              "      <td>1</td>\n",
              "    </tr>\n",
              "    <tr>\n",
              "      <th>397</th>\n",
              "      <td>28</td>\n",
              "      <td>3</td>\n",
              "      <td>2</td>\n",
              "      <td>1</td>\n",
              "      <td>1</td>\n",
              "      <td>3</td>\n",
              "      <td>1</td>\n",
              "      <td>0</td>\n",
              "      <td>1</td>\n",
              "      <td>1</td>\n",
              "      <td>...</td>\n",
              "      <td>0</td>\n",
              "      <td>1</td>\n",
              "      <td>0</td>\n",
              "      <td>0</td>\n",
              "      <td>0</td>\n",
              "      <td>1</td>\n",
              "      <td>0</td>\n",
              "      <td>0</td>\n",
              "      <td>0</td>\n",
              "      <td>1</td>\n",
              "    </tr>\n",
              "    <tr>\n",
              "      <th>398</th>\n",
              "      <td>20</td>\n",
              "      <td>3</td>\n",
              "      <td>1</td>\n",
              "      <td>1</td>\n",
              "      <td>1</td>\n",
              "      <td>3</td>\n",
              "      <td>1</td>\n",
              "      <td>0</td>\n",
              "      <td>1</td>\n",
              "      <td>1</td>\n",
              "      <td>...</td>\n",
              "      <td>0</td>\n",
              "      <td>1</td>\n",
              "      <td>0</td>\n",
              "      <td>0</td>\n",
              "      <td>0</td>\n",
              "      <td>0</td>\n",
              "      <td>0</td>\n",
              "      <td>0</td>\n",
              "      <td>1</td>\n",
              "      <td>1</td>\n",
              "    </tr>\n",
              "    <tr>\n",
              "      <th>399</th>\n",
              "      <td>37</td>\n",
              "      <td>1</td>\n",
              "      <td>1</td>\n",
              "      <td>1</td>\n",
              "      <td>1</td>\n",
              "      <td>3</td>\n",
              "      <td>1</td>\n",
              "      <td>1</td>\n",
              "      <td>1</td>\n",
              "      <td>1</td>\n",
              "      <td>...</td>\n",
              "      <td>0</td>\n",
              "      <td>1</td>\n",
              "      <td>0</td>\n",
              "      <td>0</td>\n",
              "      <td>0</td>\n",
              "      <td>0</td>\n",
              "      <td>0</td>\n",
              "      <td>1</td>\n",
              "      <td>0</td>\n",
              "      <td>1</td>\n",
              "    </tr>\n",
              "  </tbody>\n",
              "</table>\n",
              "<p>400 rows × 23 columns</p>\n",
              "</div>"
            ],
            "text/plain": [
              "     Age  Duration  Frequency  Location  Character  Intensity  Nausea  Vomit   \n",
              "0     30         1          5         1          1          2       1      0  \\\n",
              "1     50         3          5         1          1          3       1      1   \n",
              "2     53         2          1         1          1          2       1      1   \n",
              "3     45         3          5         1          1          3       1      0   \n",
              "4     53         1          1         1          1          2       1      0   \n",
              "..   ...       ...        ...       ...        ...        ...     ...    ...   \n",
              "395   39         1          1         1          1          3       1      1   \n",
              "396   20         3          2         1          1          3       1      0   \n",
              "397   28         3          2         1          1          3       1      0   \n",
              "398   20         3          1         1          1          3       1      0   \n",
              "399   37         1          1         1          1          3       1      1   \n",
              "\n",
              "     Phonophobia  Photophobia  ...  Dysarthria  Vertigo  Tinnitus  Hypoacusis   \n",
              "0              1            1  ...           0        0         0           0  \\\n",
              "1              1            1  ...           0        1         0           0   \n",
              "2              1            1  ...           0        0         0           0   \n",
              "3              1            1  ...           0        1         0           0   \n",
              "4              1            1  ...           0        0         0           0   \n",
              "..           ...          ...  ...         ...      ...       ...         ...   \n",
              "395            1            1  ...           0        1         0           0   \n",
              "396            1            1  ...           0        0         1           1   \n",
              "397            1            1  ...           0        1         0           0   \n",
              "398            1            1  ...           0        1         0           0   \n",
              "399            1            1  ...           0        1         0           0   \n",
              "\n",
              "     Diplopia  Defect  Ataxia  Conscience  Paresthesia  DPF  \n",
              "0           0       0       0           0            0    0  \n",
              "1           0       0       0           0            0    0  \n",
              "2           0       0       0           0            0    0  \n",
              "3           0       0       0           0            0    0  \n",
              "4           0       0       0           0            0    1  \n",
              "..        ...     ...     ...         ...          ...  ...  \n",
              "395         1       0       0           0            0    1  \n",
              "396         0       0       0           0            0    1  \n",
              "397         0       1       0           0            0    1  \n",
              "398         0       0       0           0            1    1  \n",
              "399         0       0       0           1            0    1  \n",
              "\n",
              "[400 rows x 23 columns]"
            ]
          },
          "execution_count": 20,
          "metadata": {},
          "output_type": "execute_result"
        }
      ],
      "source": [
        "# Todas las columnas a excepción de la objetivo (Type) se toman para X\n",
        "X = migraine[['Age', 'Duration', 'Frequency', 'Location', 'Character', 'Intensity',\n",
        "       'Nausea', 'Vomit', 'Phonophobia', 'Photophobia', 'Visual', 'Sensory',\n",
        "       'Dysphasia', 'Dysarthria', 'Vertigo', 'Tinnitus', 'Hypoacusis',\n",
        "       'Diplopia', 'Defect', 'Ataxia', 'Conscience', 'Paresthesia', 'DPF']]\n",
        "X"
      ]
    },
    {
      "cell_type": "code",
      "execution_count": 21,
      "metadata": {
        "colab": {
          "base_uri": "https://localhost:8080/"
        },
        "id": "Hudb1DdT_6T0",
        "outputId": "6be43d9e-a52e-42da-e93d-1d914c3c5750"
      },
      "outputs": [
        {
          "name": "stdout",
          "output_type": "stream",
          "text": [
            "<class 'pandas.core.frame.DataFrame'>\n",
            "RangeIndex: 400 entries, 0 to 399\n",
            "Data columns (total 23 columns):\n",
            " #   Column       Non-Null Count  Dtype\n",
            "---  ------       --------------  -----\n",
            " 0   Age          400 non-null    int64\n",
            " 1   Duration     400 non-null    int64\n",
            " 2   Frequency    400 non-null    int64\n",
            " 3   Location     400 non-null    int64\n",
            " 4   Character    400 non-null    int64\n",
            " 5   Intensity    400 non-null    int64\n",
            " 6   Nausea       400 non-null    int64\n",
            " 7   Vomit        400 non-null    int64\n",
            " 8   Phonophobia  400 non-null    int64\n",
            " 9   Photophobia  400 non-null    int64\n",
            " 10  Visual       400 non-null    int64\n",
            " 11  Sensory      400 non-null    int64\n",
            " 12  Dysphasia    400 non-null    int64\n",
            " 13  Dysarthria   400 non-null    int64\n",
            " 14  Vertigo      400 non-null    int64\n",
            " 15  Tinnitus     400 non-null    int64\n",
            " 16  Hypoacusis   400 non-null    int64\n",
            " 17  Diplopia     400 non-null    int64\n",
            " 18  Defect       400 non-null    int64\n",
            " 19  Ataxia       400 non-null    int64\n",
            " 20  Conscience   400 non-null    int64\n",
            " 21  Paresthesia  400 non-null    int64\n",
            " 22  DPF          400 non-null    int64\n",
            "dtypes: int64(23)\n",
            "memory usage: 72.0 KB\n"
          ]
        }
      ],
      "source": [
        "X.info() # Se corrobora que tenga las columnas correctas."
      ]
    },
    {
      "cell_type": "code",
      "execution_count": 22,
      "metadata": {
        "colab": {
          "base_uri": "https://localhost:8080/",
          "height": 423
        },
        "id": "Yrz3jKqrCFOG",
        "outputId": "8406bc22-a774-46f5-862c-2ff5029dd147"
      },
      "outputs": [
        {
          "data": {
            "text/html": [
              "<div>\n",
              "<style scoped>\n",
              "    .dataframe tbody tr th:only-of-type {\n",
              "        vertical-align: middle;\n",
              "    }\n",
              "\n",
              "    .dataframe tbody tr th {\n",
              "        vertical-align: top;\n",
              "    }\n",
              "\n",
              "    .dataframe thead th {\n",
              "        text-align: right;\n",
              "    }\n",
              "</style>\n",
              "<table border=\"1\" class=\"dataframe\">\n",
              "  <thead>\n",
              "    <tr style=\"text-align: right;\">\n",
              "      <th></th>\n",
              "      <th>Type</th>\n",
              "    </tr>\n",
              "  </thead>\n",
              "  <tbody>\n",
              "    <tr>\n",
              "      <th>0</th>\n",
              "      <td>0</td>\n",
              "    </tr>\n",
              "    <tr>\n",
              "      <th>1</th>\n",
              "      <td>0</td>\n",
              "    </tr>\n",
              "    <tr>\n",
              "      <th>2</th>\n",
              "      <td>0</td>\n",
              "    </tr>\n",
              "    <tr>\n",
              "      <th>3</th>\n",
              "      <td>0</td>\n",
              "    </tr>\n",
              "    <tr>\n",
              "      <th>4</th>\n",
              "      <td>0</td>\n",
              "    </tr>\n",
              "    <tr>\n",
              "      <th>...</th>\n",
              "      <td>...</td>\n",
              "    </tr>\n",
              "    <tr>\n",
              "      <th>395</th>\n",
              "      <td>2</td>\n",
              "    </tr>\n",
              "    <tr>\n",
              "      <th>396</th>\n",
              "      <td>2</td>\n",
              "    </tr>\n",
              "    <tr>\n",
              "      <th>397</th>\n",
              "      <td>2</td>\n",
              "    </tr>\n",
              "    <tr>\n",
              "      <th>398</th>\n",
              "      <td>2</td>\n",
              "    </tr>\n",
              "    <tr>\n",
              "      <th>399</th>\n",
              "      <td>2</td>\n",
              "    </tr>\n",
              "  </tbody>\n",
              "</table>\n",
              "<p>400 rows × 1 columns</p>\n",
              "</div>"
            ],
            "text/plain": [
              "     Type\n",
              "0       0\n",
              "1       0\n",
              "2       0\n",
              "3       0\n",
              "4       0\n",
              "..    ...\n",
              "395     2\n",
              "396     2\n",
              "397     2\n",
              "398     2\n",
              "399     2\n",
              "\n",
              "[400 rows x 1 columns]"
            ]
          },
          "execution_count": 22,
          "metadata": {},
          "output_type": "execute_result"
        }
      ],
      "source": [
        "y = migraine[['Type']].astype('int') # \"y\" toma la característica objetivo\n",
        "y"
      ]
    },
    {
      "cell_type": "code",
      "execution_count": 23,
      "metadata": {
        "id": "7km96_-BDTmY"
      },
      "outputs": [],
      "source": [
        "#Se obtienen los datos de entranamiento y prueba para X e y\n",
        "X_train, X_test, y_train, y_test = train_test_split(X, y, test_size = 0.3, random_state = 42)"
      ]
    },
    {
      "attachments": {},
      "cell_type": "markdown",
      "metadata": {
        "id": "kjeGXeJlJSdV"
      },
      "source": [
        "###Uso del modelo y respuestas al examen"
      ]
    },
    {
      "attachments": {},
      "cell_type": "markdown",
      "metadata": {
        "id": "b8EsKdiJJayq"
      },
      "source": [
        "**Crea un modelo de clasificación base utilizando cualquier algoritmo de clasificación de tu\n",
        "elección.**"
      ]
    },
    {
      "cell_type": "code",
      "execution_count": 24,
      "metadata": {
        "id": "lSsZulGcDxSD"
      },
      "outputs": [],
      "source": [
        "# El modelo elegido es el Árbol de Decisión clasificador\n",
        "dtc = DecisionTreeClassifier()"
      ]
    },
    {
      "attachments": {},
      "cell_type": "markdown",
      "metadata": {
        "id": "Mt-B-xBMJowl"
      },
      "source": [
        "**Proporcione una breve descripción del algoritmo y sus suposiciones.**"
      ]
    },
    {
      "attachments": {},
      "cell_type": "markdown",
      "metadata": {
        "id": "fSeEXdbGJrks"
      },
      "source": [
        "El Árbol de Decisión Clasificador, como su nombre lo dice, se basa en la estructura de arbol para el análisis de información donde los datos obtenidos tienen un comportamiento tal que permitan ser clasificados. \n",
        "\n",
        "El nodo inicial o raíz de toma de una de las características de forma aleatoria y a partir de ahí, se empiezan a formar los nodos hijos revisando las demás características. El árbol va realizando divisiones hasta llegar a partes mas simples de los datos en donde la cantidad de muestras por nodo hoja sea pequeña y las impurezas de aleatoriedad sean también mínimas, pero, sin llegar a una situacción de sobreajuste del modelo.\n",
        "\n",
        "Mi suposición en base al segundo párrafo es que el árbol tomará los datos, y \n",
        "en base a una característica seleccionada aleatoriamente, irá desglosando los datos y formando mas nodos para analizar los datos que se le den. En el caso del modelo base, existe un riesgo de que el modelo se sobreajuste o \"memorice\" los datos de tal manera que no sea útil para revisar datos ajenos al dataset.\n"
      ]
    },
    {
      "attachments": {},
      "cell_type": "markdown",
      "metadata": {
        "id": "q-rcCbCOL-rG"
      },
      "source": [
        "**Realice una validación cruzada utilizando una validación cruzada de 5 veces e\n",
        "informe la media y la desviación estándar de las puntuaciones de validación cruzada**"
      ]
    },
    {
      "cell_type": "code",
      "execution_count": 25,
      "metadata": {
        "colab": {
          "base_uri": "https://localhost:8080/"
        },
        "id": "QPpUDIE6FvJT",
        "outputId": "7007b971-a23b-45c8-b695-5e9badc4e626"
      },
      "outputs": [
        {
          "name": "stdout",
          "output_type": "stream",
          "text": [
            "Árbol de Decisión con parámetros por default\n",
            "*Promedio y Desviación Estándar 80.333333f% (1.8)\n"
          ]
        }
      ],
      "source": [
        "n_for = 5 # La validación cruzada de 5 veces se refiere a las iteraciones que ha de realizar. Por eso el valor de 5.\n",
        "listaEvalsAD = list() # Se crea Lista para almacenar puntajes.\n",
        "listaExactitudes = list() # Se crea Lista para almacenar valores de la métrica de exactitud.\n",
        "listaPrecisiones = list() # Se crea Lista para almacenar métricas de exactitud.\n",
        "listaRecuperaciones = list()  # Se crea Lista para almacenar métricas de recuperación.\n",
        "listaF1s = list()  # Se crea Lista para almacenar métricas de F1.\n",
        "\n",
        "# Ciclo para la validación cruzada. En cada iteración se realiza lo siguiente:\n",
        "for k in range (n_for):\n",
        "  dtc = DecisionTreeClassifier() # Creación de un modelo base del árbol de decisión clasificador.\n",
        "  dtc.fit(X_train, y_train) # Entrenamiento del modelo con los datos de entrenamiento.\n",
        "  tmp = dtc.score(X_test, y_test) # Obtención del puntaje con el uso de los datos de prueba.\n",
        "  listaEvalsAD.append(tmp) # Almacenamiento del puntaje.\n",
        "\n",
        "  y_pred = dtc.predict(X_test) # Predicción de datos a partir de los datos de prueba de X\n",
        "  \n",
        "  # Cálculo y almacenamiento de las métricas antes mencionadas.\n",
        "  listaExactitudes.append( accuracy_score(y_test, y_pred) ) \n",
        "  listaRecuperaciones.append( recall_score(y_test, y_pred, average = 'micro') )\n",
        "  listaPrecisiones.append ( precision_score(y_test, y_pred, average = 'micro') )\n",
        "  listaF1s.append( f1_score(y_test, y_pred, average = 'micro')  )\n",
        "\n",
        "# Promedio y desviación estándar son notificados por impresión en consola.\n",
        "print('Árbol de Decisión con parámetros por default\\n*Promedio y Desviación Estándar %1ff%% (%.1f)' % (100*np.mean(listaEvalsAD), 100*np.std(listaEvalsAD)))"
      ]
    },
    {
      "attachments": {},
      "cell_type": "markdown",
      "metadata": {
        "id": "44MFpJEGMqU3"
      },
      "source": [
        "**Explica por qué la validación cruzada es importante para evaluar el rendimiento de tu\n",
        "modelo.**"
      ]
    },
    {
      "attachments": {},
      "cell_type": "markdown",
      "metadata": {
        "id": "in_u88LfMt1i"
      },
      "source": [
        "Al no tener fijos los hiperparámetros, se da la posibilidad de que este y otros modelos sean muy variables en sus puntajes. Para comprobar esa variabilidad se podría bien realizar varias pruebas de forma manual, es decir, una y otra vez crear el modelo, entrenarlo, etc. Esto involucra más tiempo.\n",
        "\n",
        "La validación cruzada ayuda por ejemplo en ese aspecto, nos ahorra tiempo en el análisis de varias ejecuciones del mismo modelo. \n",
        "\n",
        "Si no me equivoco (y aunque el concepto no lo tengo muy claro) la desviación estándar nos ayuda a conocer que tan cercano o lejano están cada uno de los valores de puntaje y con eso saber, que tan estable es el modelo ante distintas evaluaciones. \n",
        "\n",
        "Otro punto importante a revisar para comprobar la calidad del modelo, es revisar el conjunto de puntajes que arrojó y así ver si la dstribución es uniforme o si hay situaciones especiales donde los puntajes salen de un rango \"normal\"."
      ]
    },
    {
      "attachments": {},
      "cell_type": "markdown",
      "metadata": {
        "id": "B5PILGUQOIwc"
      },
      "source": [
        "**Ajusta los hiperparámetros de su modelo de clasificación mediante la búsqueda en\n",
        "cuadrícula.**"
      ]
    },
    {
      "cell_type": "code",
      "execution_count": 26,
      "metadata": {
        "colab": {
          "base_uri": "https://localhost:8080/",
          "height": 117
        },
        "id": "QEJsaGXHOBSt",
        "outputId": "cece4d5f-37e4-46b2-ed8a-de1cebdb8079"
      },
      "outputs": [
        {
          "data": {
            "text/html": [
              "<style>#sk-container-id-1 {color: black;background-color: white;}#sk-container-id-1 pre{padding: 0;}#sk-container-id-1 div.sk-toggleable {background-color: white;}#sk-container-id-1 label.sk-toggleable__label {cursor: pointer;display: block;width: 100%;margin-bottom: 0;padding: 0.3em;box-sizing: border-box;text-align: center;}#sk-container-id-1 label.sk-toggleable__label-arrow:before {content: \"▸\";float: left;margin-right: 0.25em;color: #696969;}#sk-container-id-1 label.sk-toggleable__label-arrow:hover:before {color: black;}#sk-container-id-1 div.sk-estimator:hover label.sk-toggleable__label-arrow:before {color: black;}#sk-container-id-1 div.sk-toggleable__content {max-height: 0;max-width: 0;overflow: hidden;text-align: left;background-color: #f0f8ff;}#sk-container-id-1 div.sk-toggleable__content pre {margin: 0.2em;color: black;border-radius: 0.25em;background-color: #f0f8ff;}#sk-container-id-1 input.sk-toggleable__control:checked~div.sk-toggleable__content {max-height: 200px;max-width: 100%;overflow: auto;}#sk-container-id-1 input.sk-toggleable__control:checked~label.sk-toggleable__label-arrow:before {content: \"▾\";}#sk-container-id-1 div.sk-estimator input.sk-toggleable__control:checked~label.sk-toggleable__label {background-color: #d4ebff;}#sk-container-id-1 div.sk-label input.sk-toggleable__control:checked~label.sk-toggleable__label {background-color: #d4ebff;}#sk-container-id-1 input.sk-hidden--visually {border: 0;clip: rect(1px 1px 1px 1px);clip: rect(1px, 1px, 1px, 1px);height: 1px;margin: -1px;overflow: hidden;padding: 0;position: absolute;width: 1px;}#sk-container-id-1 div.sk-estimator {font-family: monospace;background-color: #f0f8ff;border: 1px dotted black;border-radius: 0.25em;box-sizing: border-box;margin-bottom: 0.5em;}#sk-container-id-1 div.sk-estimator:hover {background-color: #d4ebff;}#sk-container-id-1 div.sk-parallel-item::after {content: \"\";width: 100%;border-bottom: 1px solid gray;flex-grow: 1;}#sk-container-id-1 div.sk-label:hover label.sk-toggleable__label {background-color: #d4ebff;}#sk-container-id-1 div.sk-serial::before {content: \"\";position: absolute;border-left: 1px solid gray;box-sizing: border-box;top: 0;bottom: 0;left: 50%;z-index: 0;}#sk-container-id-1 div.sk-serial {display: flex;flex-direction: column;align-items: center;background-color: white;padding-right: 0.2em;padding-left: 0.2em;position: relative;}#sk-container-id-1 div.sk-item {position: relative;z-index: 1;}#sk-container-id-1 div.sk-parallel {display: flex;align-items: stretch;justify-content: center;background-color: white;position: relative;}#sk-container-id-1 div.sk-item::before, #sk-container-id-1 div.sk-parallel-item::before {content: \"\";position: absolute;border-left: 1px solid gray;box-sizing: border-box;top: 0;bottom: 0;left: 50%;z-index: -1;}#sk-container-id-1 div.sk-parallel-item {display: flex;flex-direction: column;z-index: 1;position: relative;background-color: white;}#sk-container-id-1 div.sk-parallel-item:first-child::after {align-self: flex-end;width: 50%;}#sk-container-id-1 div.sk-parallel-item:last-child::after {align-self: flex-start;width: 50%;}#sk-container-id-1 div.sk-parallel-item:only-child::after {width: 0;}#sk-container-id-1 div.sk-dashed-wrapped {border: 1px dashed gray;margin: 0 0.4em 0.5em 0.4em;box-sizing: border-box;padding-bottom: 0.4em;background-color: white;}#sk-container-id-1 div.sk-label label {font-family: monospace;font-weight: bold;display: inline-block;line-height: 1.2em;}#sk-container-id-1 div.sk-label-container {text-align: center;}#sk-container-id-1 div.sk-container {/* jupyter's `normalize.less` sets `[hidden] { display: none; }` but bootstrap.min.css set `[hidden] { display: none !important; }` so we also need the `!important` here to be able to override the default hidden behavior on the sphinx rendered scikit-learn.org. See: https://github.com/scikit-learn/scikit-learn/issues/21755 */display: inline-block !important;position: relative;}#sk-container-id-1 div.sk-text-repr-fallback {display: none;}</style><div id=\"sk-container-id-1\" class=\"sk-top-container\"><div class=\"sk-text-repr-fallback\"><pre>GridSearchCV(cv=5, estimator=DecisionTreeClassifier(),\n",
              "             param_grid={&#x27;criterion&#x27;: [&#x27;gini&#x27;, &#x27;entropy&#x27;, &#x27;log_loss&#x27;],\n",
              "                         &#x27;max_features&#x27;: [&#x27;sqrt&#x27;, &#x27;log2&#x27;],\n",
              "                         &#x27;min_impurity_decrease&#x27;: [0.1, 0.15, 0.2, 0.2, 0.25],\n",
              "                         &#x27;random_state&#x27;: [0, 21, 42, 63],\n",
              "                         &#x27;splitter&#x27;: [&#x27;best&#x27;, &#x27;random&#x27;]})</pre><b>In a Jupyter environment, please rerun this cell to show the HTML representation or trust the notebook. <br />On GitHub, the HTML representation is unable to render, please try loading this page with nbviewer.org.</b></div><div class=\"sk-container\" hidden><div class=\"sk-item sk-dashed-wrapped\"><div class=\"sk-label-container\"><div class=\"sk-label sk-toggleable\"><input class=\"sk-toggleable__control sk-hidden--visually\" id=\"sk-estimator-id-1\" type=\"checkbox\" ><label for=\"sk-estimator-id-1\" class=\"sk-toggleable__label sk-toggleable__label-arrow\">GridSearchCV</label><div class=\"sk-toggleable__content\"><pre>GridSearchCV(cv=5, estimator=DecisionTreeClassifier(),\n",
              "             param_grid={&#x27;criterion&#x27;: [&#x27;gini&#x27;, &#x27;entropy&#x27;, &#x27;log_loss&#x27;],\n",
              "                         &#x27;max_features&#x27;: [&#x27;sqrt&#x27;, &#x27;log2&#x27;],\n",
              "                         &#x27;min_impurity_decrease&#x27;: [0.1, 0.15, 0.2, 0.2, 0.25],\n",
              "                         &#x27;random_state&#x27;: [0, 21, 42, 63],\n",
              "                         &#x27;splitter&#x27;: [&#x27;best&#x27;, &#x27;random&#x27;]})</pre></div></div></div><div class=\"sk-parallel\"><div class=\"sk-parallel-item\"><div class=\"sk-item\"><div class=\"sk-label-container\"><div class=\"sk-label sk-toggleable\"><input class=\"sk-toggleable__control sk-hidden--visually\" id=\"sk-estimator-id-2\" type=\"checkbox\" ><label for=\"sk-estimator-id-2\" class=\"sk-toggleable__label sk-toggleable__label-arrow\">estimator: DecisionTreeClassifier</label><div class=\"sk-toggleable__content\"><pre>DecisionTreeClassifier()</pre></div></div></div><div class=\"sk-serial\"><div class=\"sk-item\"><div class=\"sk-estimator sk-toggleable\"><input class=\"sk-toggleable__control sk-hidden--visually\" id=\"sk-estimator-id-3\" type=\"checkbox\" ><label for=\"sk-estimator-id-3\" class=\"sk-toggleable__label sk-toggleable__label-arrow\">DecisionTreeClassifier</label><div class=\"sk-toggleable__content\"><pre>DecisionTreeClassifier()</pre></div></div></div></div></div></div></div></div></div></div>"
            ],
            "text/plain": [
              "GridSearchCV(cv=5, estimator=DecisionTreeClassifier(),\n",
              "             param_grid={'criterion': ['gini', 'entropy', 'log_loss'],\n",
              "                         'max_features': ['sqrt', 'log2'],\n",
              "                         'min_impurity_decrease': [0.1, 0.15, 0.2, 0.2, 0.25],\n",
              "                         'random_state': [0, 21, 42, 63],\n",
              "                         'splitter': ['best', 'random']})"
            ]
          },
          "execution_count": 26,
          "metadata": {},
          "output_type": "execute_result"
        }
      ],
      "source": [
        "#Configuración de la cuadrícula\n",
        "grid = {\n",
        "    'criterion' : ['gini', 'entropy', 'log_loss'],\n",
        "    'splitter' : ['best', 'random'],\n",
        "    'min_impurity_decrease': [0.10, 0.15, 0.20, 0.20, 0.25],\n",
        "    'max_features' : ['sqrt', 'log2'],\n",
        "    'random_state' : [0, 21, 42, 63]\n",
        "}\n",
        "\n",
        "dtc_cv = GridSearchCV(estimator = DecisionTreeClassifier() , param_grid = grid, cv = 5) # Búsqueda en malla de los mejore hiperparámetros\n",
        "dtc_cv.fit(X_train, y_train) # Entrenamiento del modelo."
      ]
    },
    {
      "attachments": {},
      "cell_type": "markdown",
      "metadata": {
        "id": "-JZqbbG2OX-j"
      },
      "source": [
        "**Explica los hiperparámetros que ajustó, el rango de valores que consideró y la razón detrás\n",
        "de sus elecciones.**"
      ]
    },
    {
      "attachments": {},
      "cell_type": "markdown",
      "metadata": {
        "id": "jlnxWH25OelW"
      },
      "source": [
        "* Criterion: De acuerdo con la documentación es para medir la calidad de la división. Los valores que consideré fueron 'gini', 'entropy' y 'log_loss'. Consideré este parámetro porque ayuda a que cada nodo tenga un nivel bajo de aleatoriedad en sus datos. Cuanto menor sea la aleatoriedad más preciso será el modelo. Con gini se va revisando el nivel de impureza de aleatoriedad (o de variedad de opciones) mientras que con entropía hay un incremento de valor entre más aleatoriedad hay. Consideré esos 3 valores porque, de acuerdo a la documentación son los que están disponibles para Criterion.\n",
        "\n",
        "* Splitter: De acuerdo a la documentación es la estrategia utilizada para dividir los datos. Los valores considerados fueron 'best' y 'random' y al ser los únicos disponibles, los elegí.\n",
        "\n",
        "* Min_Impurity_decrease: Este parámetro puede ir muy bien combinado con el Criterio 'Gini' ya que consiste en establecer el mínimo valor de impureza que debe tener un nodo para ya no dividirlo. Combina bien con Gini porque ayuda a ponerle como un \"tope\" de divisiones si se ajusta correctamente. El rango de valores considerados es desde 0.10 hasta 0.25 en saldos de 0.05 y la razón se debe a que en una de las páginas que investigué sobre los hiperparámetros de este modelo, se mostraba un ejemplo donde su valor era 0.2, por lo cual, quise brindar unos valores que rodearan esa cantidad. Lo que debe evitarse es dejarlo en su valor por defecto, es decir, 0, ya que esto puede provocar que el modelo haga n divisiones hasta disminuir por completo las impurezas y con ello, provocar un mal entrenamiento.\n",
        "\n",
        "* Max_Features: De acuerdo a la documentación este hiperparámetro hace referencia a la cantidad de características que hay que revisar para lograr la mejor división. Como valores especifiqué sqrt y log2. Este hiperparámetro me puede servir ya que sería pesado si el modelo tuviera que revisar todas y cada una de las características para una división, resulta más ráido tomar solo algunas. En cuanto a los valores elegidos, estos se deben a que son como que la variedad existentes de valores. Hay otro 2 pero uno de ellos aplica lo mismo que sqrt y el otro trabaja con todas las características.\n",
        "\n",
        "* Random_State:  Con Random State es posible hacer que el modelo arroje puntajes muy parecidos en varias ejecuciones si se le coloca un valor entero. La documentación informa que es recomendable probar con distintos valores para ver que tan estable es el comportamiento del modelo. Los valores considerados están entre 0 y el 53 en saltos de 21. La razón de la elección de estos valores es que, de acuerdo a la documentación, los valores más populares son 0 y 42 y lo que hice fue nuevamente jugar con los valores incrementando o decrementando de 21. Esto puede ayudar en la validación cruzada, ya que, si se ha de probar el mismo modelo n veces, conviene que se haga con diferetens valores Random_State para ver que tan estable se mantiene."
      ]
    },
    {
      "attachments": {},
      "cell_type": "markdown",
      "metadata": {
        "id": "WbRoJQuMYTrd"
      },
      "source": [
        "**Informe los mejores hiperparámetros que encontró y la puntuación de validación cruzada\n",
        "correspondiente.**"
      ]
    },
    {
      "attachments": {},
      "cell_type": "markdown",
      "metadata": {
        "id": "zIwMRgcHYXdV"
      },
      "source": [
        "Estos fueron los mejores hiperparámetros"
      ]
    },
    {
      "cell_type": "code",
      "execution_count": 27,
      "metadata": {
        "colab": {
          "base_uri": "https://localhost:8080/"
        },
        "id": "mNNtbMwPW1rs",
        "outputId": "334f3eef-1916-4bdd-ae4b-8d45b44ee7a5"
      },
      "outputs": [
        {
          "data": {
            "text/plain": [
              "{'criterion': 'entropy',\n",
              " 'max_features': 'sqrt',\n",
              " 'min_impurity_decrease': 0.1,\n",
              " 'random_state': 0,\n",
              " 'splitter': 'best'}"
            ]
          },
          "execution_count": 27,
          "metadata": {},
          "output_type": "execute_result"
        }
      ],
      "source": [
        "dtc_cv.best_params_"
      ]
    },
    {
      "cell_type": "code",
      "execution_count": 28,
      "metadata": {
        "id": "d3ZzU_XLXF28"
      },
      "outputs": [],
      "source": [
        "# Se crea un modelo con los mejores hiperparámetros\n",
        "new_dtc = DecisionTreeClassifier(criterion = 'entropy',\n",
        "                                 max_features= 'sqrt',\n",
        "                                 min_impurity_decrease= 0.1,\n",
        "                                 random_state= 0,\n",
        "                                 splitter= 'best')"
      ]
    },
    {
      "cell_type": "code",
      "execution_count": 29,
      "metadata": {
        "colab": {
          "base_uri": "https://localhost:8080/",
          "height": 92
        },
        "id": "dmwX4DDaY11J",
        "outputId": "9f349524-7be2-4207-8daa-ffc1bf16f03d"
      },
      "outputs": [
        {
          "data": {
            "text/html": [
              "<style>#sk-container-id-2 {color: black;background-color: white;}#sk-container-id-2 pre{padding: 0;}#sk-container-id-2 div.sk-toggleable {background-color: white;}#sk-container-id-2 label.sk-toggleable__label {cursor: pointer;display: block;width: 100%;margin-bottom: 0;padding: 0.3em;box-sizing: border-box;text-align: center;}#sk-container-id-2 label.sk-toggleable__label-arrow:before {content: \"▸\";float: left;margin-right: 0.25em;color: #696969;}#sk-container-id-2 label.sk-toggleable__label-arrow:hover:before {color: black;}#sk-container-id-2 div.sk-estimator:hover label.sk-toggleable__label-arrow:before {color: black;}#sk-container-id-2 div.sk-toggleable__content {max-height: 0;max-width: 0;overflow: hidden;text-align: left;background-color: #f0f8ff;}#sk-container-id-2 div.sk-toggleable__content pre {margin: 0.2em;color: black;border-radius: 0.25em;background-color: #f0f8ff;}#sk-container-id-2 input.sk-toggleable__control:checked~div.sk-toggleable__content {max-height: 200px;max-width: 100%;overflow: auto;}#sk-container-id-2 input.sk-toggleable__control:checked~label.sk-toggleable__label-arrow:before {content: \"▾\";}#sk-container-id-2 div.sk-estimator input.sk-toggleable__control:checked~label.sk-toggleable__label {background-color: #d4ebff;}#sk-container-id-2 div.sk-label input.sk-toggleable__control:checked~label.sk-toggleable__label {background-color: #d4ebff;}#sk-container-id-2 input.sk-hidden--visually {border: 0;clip: rect(1px 1px 1px 1px);clip: rect(1px, 1px, 1px, 1px);height: 1px;margin: -1px;overflow: hidden;padding: 0;position: absolute;width: 1px;}#sk-container-id-2 div.sk-estimator {font-family: monospace;background-color: #f0f8ff;border: 1px dotted black;border-radius: 0.25em;box-sizing: border-box;margin-bottom: 0.5em;}#sk-container-id-2 div.sk-estimator:hover {background-color: #d4ebff;}#sk-container-id-2 div.sk-parallel-item::after {content: \"\";width: 100%;border-bottom: 1px solid gray;flex-grow: 1;}#sk-container-id-2 div.sk-label:hover label.sk-toggleable__label {background-color: #d4ebff;}#sk-container-id-2 div.sk-serial::before {content: \"\";position: absolute;border-left: 1px solid gray;box-sizing: border-box;top: 0;bottom: 0;left: 50%;z-index: 0;}#sk-container-id-2 div.sk-serial {display: flex;flex-direction: column;align-items: center;background-color: white;padding-right: 0.2em;padding-left: 0.2em;position: relative;}#sk-container-id-2 div.sk-item {position: relative;z-index: 1;}#sk-container-id-2 div.sk-parallel {display: flex;align-items: stretch;justify-content: center;background-color: white;position: relative;}#sk-container-id-2 div.sk-item::before, #sk-container-id-2 div.sk-parallel-item::before {content: \"\";position: absolute;border-left: 1px solid gray;box-sizing: border-box;top: 0;bottom: 0;left: 50%;z-index: -1;}#sk-container-id-2 div.sk-parallel-item {display: flex;flex-direction: column;z-index: 1;position: relative;background-color: white;}#sk-container-id-2 div.sk-parallel-item:first-child::after {align-self: flex-end;width: 50%;}#sk-container-id-2 div.sk-parallel-item:last-child::after {align-self: flex-start;width: 50%;}#sk-container-id-2 div.sk-parallel-item:only-child::after {width: 0;}#sk-container-id-2 div.sk-dashed-wrapped {border: 1px dashed gray;margin: 0 0.4em 0.5em 0.4em;box-sizing: border-box;padding-bottom: 0.4em;background-color: white;}#sk-container-id-2 div.sk-label label {font-family: monospace;font-weight: bold;display: inline-block;line-height: 1.2em;}#sk-container-id-2 div.sk-label-container {text-align: center;}#sk-container-id-2 div.sk-container {/* jupyter's `normalize.less` sets `[hidden] { display: none; }` but bootstrap.min.css set `[hidden] { display: none !important; }` so we also need the `!important` here to be able to override the default hidden behavior on the sphinx rendered scikit-learn.org. See: https://github.com/scikit-learn/scikit-learn/issues/21755 */display: inline-block !important;position: relative;}#sk-container-id-2 div.sk-text-repr-fallback {display: none;}</style><div id=\"sk-container-id-2\" class=\"sk-top-container\"><div class=\"sk-text-repr-fallback\"><pre>DecisionTreeClassifier(criterion=&#x27;entropy&#x27;, max_features=&#x27;sqrt&#x27;,\n",
              "                       min_impurity_decrease=0.1, random_state=0)</pre><b>In a Jupyter environment, please rerun this cell to show the HTML representation or trust the notebook. <br />On GitHub, the HTML representation is unable to render, please try loading this page with nbviewer.org.</b></div><div class=\"sk-container\" hidden><div class=\"sk-item\"><div class=\"sk-estimator sk-toggleable\"><input class=\"sk-toggleable__control sk-hidden--visually\" id=\"sk-estimator-id-4\" type=\"checkbox\" checked><label for=\"sk-estimator-id-4\" class=\"sk-toggleable__label sk-toggleable__label-arrow\">DecisionTreeClassifier</label><div class=\"sk-toggleable__content\"><pre>DecisionTreeClassifier(criterion=&#x27;entropy&#x27;, max_features=&#x27;sqrt&#x27;,\n",
              "                       min_impurity_decrease=0.1, random_state=0)</pre></div></div></div></div></div>"
            ],
            "text/plain": [
              "DecisionTreeClassifier(criterion='entropy', max_features='sqrt',\n",
              "                       min_impurity_decrease=0.1, random_state=0)"
            ]
          },
          "execution_count": 29,
          "metadata": {},
          "output_type": "execute_result"
        }
      ],
      "source": [
        "# Se entrena el modelo\n",
        "new_dtc.fit(X_train, y_train)"
      ]
    },
    {
      "attachments": {},
      "cell_type": "markdown",
      "metadata": {
        "id": "kpiTn7LTYsET"
      },
      "source": [
        "Este es el score de validación cruzada:"
      ]
    },
    {
      "cell_type": "code",
      "execution_count": 30,
      "metadata": {
        "colab": {
          "base_uri": "https://localhost:8080/"
        },
        "id": "8r_BsaUsCDYX",
        "outputId": "27907a4e-7600-44da-c430-881283306e43"
      },
      "outputs": [
        {
          "data": {
            "text/plain": [
              "0.7583333333333333"
            ]
          },
          "execution_count": 30,
          "metadata": {},
          "output_type": "execute_result"
        }
      ],
      "source": [
        "new_dtc.score(X_test, y_test)"
      ]
    },
    {
      "attachments": {},
      "cell_type": "markdown",
      "metadata": {
        "id": "VCPQT4ovZXn5"
      },
      "source": [
        "**Evalúa el rendimiento de tu modelo de clasificación ajustado utilizando precisión,\n",
        "recuperación y puntaje F1.**"
      ]
    },
    {
      "cell_type": "code",
      "execution_count": 31,
      "metadata": {
        "colab": {
          "base_uri": "https://localhost:8080/"
        },
        "id": "xqsZZyBkY7Rb",
        "outputId": "c78a5b07-044e-4159-ec4d-35bd34460130"
      },
      "outputs": [
        {
          "data": {
            "text/plain": [
              "0.7583333333333333"
            ]
          },
          "execution_count": 31,
          "metadata": {},
          "output_type": "execute_result"
        }
      ],
      "source": [
        "y_pred = new_dtc.predict(X_test)\n",
        "accuracy_score(y_test, y_pred)"
      ]
    },
    {
      "cell_type": "code",
      "execution_count": 32,
      "metadata": {
        "colab": {
          "base_uri": "https://localhost:8080/"
        },
        "id": "ffTZgjOpdClz",
        "outputId": "280e5088-a7b0-4d01-d7c4-22d8c763761a"
      },
      "outputs": [
        {
          "data": {
            "text/plain": [
              "0.7583333333333333"
            ]
          },
          "execution_count": 32,
          "metadata": {},
          "output_type": "execute_result"
        }
      ],
      "source": [
        "recall_score(y_test, y_pred, average = 'micro')"
      ]
    },
    {
      "cell_type": "code",
      "execution_count": 33,
      "metadata": {
        "colab": {
          "base_uri": "https://localhost:8080/"
        },
        "id": "2bJ3WBsIGB3X",
        "outputId": "c8bd336c-b2c2-4c7a-9f74-f2b40d171f03"
      },
      "outputs": [
        {
          "data": {
            "text/plain": [
              "0.7583333333333333"
            ]
          },
          "execution_count": 33,
          "metadata": {},
          "output_type": "execute_result"
        }
      ],
      "source": [
        "precision_score(y_test, y_pred, average = 'micro')"
      ]
    },
    {
      "cell_type": "code",
      "execution_count": 34,
      "metadata": {
        "colab": {
          "base_uri": "https://localhost:8080/"
        },
        "id": "ueLSbjnAZE4F",
        "outputId": "0fc5db74-2699-47f1-cf50-cc4ca5c1f231"
      },
      "outputs": [
        {
          "data": {
            "text/plain": [
              "0.7583333333333333"
            ]
          },
          "execution_count": 34,
          "metadata": {},
          "output_type": "execute_result"
        }
      ],
      "source": [
        "f1_score(y_test, y_pred, average = 'micro') \n",
        "# El mismo error ocurrió en esta instrucción"
      ]
    },
    {
      "attachments": {},
      "cell_type": "markdown",
      "metadata": {
        "id": "5_WqswB-eqCu"
      },
      "source": [
        "**Explique el significado de estas métricas y cómo se pueden usar para evaluar el rendimiento de un modelo de clasificación.**"
      ]
    },
    {
      "attachments": {},
      "cell_type": "markdown",
      "metadata": {
        "id": "E2nlc0vRe8Ab"
      },
      "source": [
        "* Accuracy_Score se refiere a una métrica de exactitud y calcula el cociente de la división: cantidad de predicciones correctas entre cantidad de predicciones totales.\n",
        "\n",
        "* Recall_Score hace referencia al cociente de la siguiente división: cantidad de verdaderos positivos en la predicción entre positivos reales (es decir verdaderos positivos + falsos negativos). Tomano en cuentra el parámetro average = 'micro' se tendrá que sumará todos los verdaderos-positivos de todas las clases y las dividirá entre todos los verdaderos reales.\n",
        "\n",
        "* Precision_score es una métrica de precisión. En algunos lugares en internet su nombre puede intercambiarse o asignarsele a accuracy. Su formula consiste en dividir la cantidad de predicciones verdaderas positivas entre la suma de las predicciones verdaderas positivas y falsas positivas.\n",
        "\n",
        "* F1_score: Es una métrica que combina precisión (precision) y recuperación (recall). Su fórmula consiste en una división, donde el dividendo es igual a la multiplicación entre la medida de precision y recall y el divisor es igual a la suma entre estos dos valores también. El resultado obtenido se multiplica por 2.\n",
        "\n",
        "La medida de la exactitud puede utilizarse cuando se quiere saber que tan eficiente es el modelo de una forma general, es decir, no tomando enfoque en predicciones positivas, negativas, verdaderas o falsas, sino más bien incluyendo todas y sacando un porcentaje total.\n",
        "\n",
        "La medida de recuperación será útil para saber que tan eficiente es el modelo para detectar los casos positivos en el conjunto de los datos positivos reales.\n",
        "\n",
        "Por su parte, la medida de precision nos ayudará a saber qel grado de equivocación del modelo al catalogar un dato como positivo. \n",
        "\n",
        "Recuperación y precisión podría confundirse pero puedo expresar que la diferencia es que el primero calcula que tanto exito tendrá el modelo en encontrar todos los datos positivos. Aplicándolo a este modelo, se puede entender que recuperación nos ayudará determinar que tan bueno será el árbol de decisión para ubicar a los pacientes con Aura típica con migraña dentro del conjunto de pacientes que realmente la padecen, es decir, responderá a la pregunta ¿A cuántos pacientes con este padecimiento logrará encontrar?. Por su parte la precisión se puede ver reflejada en que tan confiable será el modelo a la hora de dar el diagnóstico de Aura típica con migraña, es decir, la pregunta que respondería en este caso sería ¿De todos los diagnósticos dados, cuántos son verdaderos?\n",
        "\n",
        "Por último F1_score al combinar dos métricas ayudará a determinar que tan libre está un modelo de los dos tipos de errores presentes en las métricas combinadas, los cuales son: error por predicciones falsas negativas (métrica de recuperación) y error por predicciones positivas falsas (métrica de precisión)"
      ]
    },
    {
      "attachments": {},
      "cell_type": "markdown",
      "metadata": {
        "id": "4VI2VnfXPNsE"
      },
      "source": [
        "**Compare el rendimiento de tu modelo de clasificación ajustado con el modelo base y\n",
        "explique cualquier diferencia que haya observado.**"
      ]
    },
    {
      "cell_type": "code",
      "execution_count": 35,
      "metadata": {
        "colab": {
          "base_uri": "https://localhost:8080/"
        },
        "id": "0ZgcGwwjPUGa",
        "outputId": "49f67dfd-cd9a-48de-8362-ccc950c0ec9c"
      },
      "outputs": [
        {
          "name": "stdout",
          "output_type": "stream",
          "text": [
            "Árbol de decisión\n",
            "Exactitud(Accuracy) con parámetros ajustados:\n",
            "Train:\t80.71%\n",
            "Test:\t75.83%\n"
          ]
        }
      ],
      "source": [
        "# Se realiza una validación cruzada de 5 veces para el modelo de árbol de decisión con los mejores hiperparámetros encontrados\n",
        "\n",
        "listaEvalsAD_HP = list() # Se crea lista para almacenar los puntajes resultantes de la validación cruzada.\n",
        "\n",
        "# Se crean listas para almacenar valores de las sigientes métricas: exactitud(accuracy), precisión(precision), recuperaciones(recall), y f1\n",
        "listaExactitudes_HP = list()\n",
        "listaPrecisiones_HP = list()\n",
        "listaRecuperaciones_HP = list()\n",
        "listaF1s_HP = list()\n",
        "\n",
        "# Ciclo para la validación cruzada. En cada iteración se realiza lo siguiente:\n",
        "for k in range(n_for):\n",
        "\n",
        "  # Se crea modelo con los mejores hiperparámetros encontrados\n",
        "  dtc_hp = DecisionTreeClassifier(criterion = 'entropy',\n",
        "                                  max_features= 'sqrt',\n",
        "                                  min_impurity_decrease= 0.1,\n",
        "                                  random_state= 0,\n",
        "                                  splitter= 'best')\n",
        "  dtc_hp.fit(X_train, y_train) # Se entrena el modelo con los datos de entrenamiento.\n",
        "  \n",
        "  tmp = dtc_hp.score(X_test, y_test) # Se calcula y se almacena en una variable el puntaje.\n",
        "  listaEvalsAD_HP.append(tmp) # Se agrega el puntaje a una lista de puntajes.\n",
        "\n",
        "  # Se realiza una predicción en base a los datos prueba de X.\n",
        "  y_pred = dtc_hp.predict(X_test)\n",
        "  \n",
        "  # Se calculan y se almacenan valores de las métricas antes menciondas.\n",
        "  listaExactitudes_HP.append( accuracy_score(y_test, y_pred) )\n",
        "  listaRecuperaciones_HP.append( recall_score(y_test, y_pred, average = 'micro') )\n",
        "  listaPrecisiones_HP.append ( precision_score(y_test, y_pred, average = 'micro') )\n",
        "  listaF1s_HP.append( f1_score(y_test, y_pred, average = 'micro')  )\n",
        "  \n",
        "# Se notifica la precisión de prueba y de entrenamiento de del modelo con los hiperparametros ajustados.\n",
        "print('Árbol de decisión\\nExactitud(Accuracy) con parámetros ajustados:\\nTrain:\\t%.2f%%\\nTest:\\t%.2f%%'\n",
        "%(100*dtc_hp.score(X_train, y_train), 100*dtc_hp.score(X_test, y_test)))"
      ]
    },
    {
      "cell_type": "code",
      "execution_count": 36,
      "metadata": {
        "colab": {
          "base_uri": "https://localhost:8080/",
          "height": 206
        },
        "id": "CCqL28-7RY6Y",
        "outputId": "95336a5e-247e-4529-ba0f-101a6f67fdc0"
      },
      "outputs": [
        {
          "data": {
            "text/html": [
              "<div>\n",
              "<style scoped>\n",
              "    .dataframe tbody tr th:only-of-type {\n",
              "        vertical-align: middle;\n",
              "    }\n",
              "\n",
              "    .dataframe tbody tr th {\n",
              "        vertical-align: top;\n",
              "    }\n",
              "\n",
              "    .dataframe thead th {\n",
              "        text-align: right;\n",
              "    }\n",
              "</style>\n",
              "<table border=\"1\" class=\"dataframe\">\n",
              "  <thead>\n",
              "    <tr style=\"text-align: right;\">\n",
              "      <th></th>\n",
              "      <th>default</th>\n",
              "      <th>ajustado</th>\n",
              "    </tr>\n",
              "  </thead>\n",
              "  <tbody>\n",
              "    <tr>\n",
              "      <th>0</th>\n",
              "      <td>0.775000</td>\n",
              "      <td>0.758333</td>\n",
              "    </tr>\n",
              "    <tr>\n",
              "      <th>1</th>\n",
              "      <td>0.791667</td>\n",
              "      <td>0.758333</td>\n",
              "    </tr>\n",
              "    <tr>\n",
              "      <th>2</th>\n",
              "      <td>0.808333</td>\n",
              "      <td>0.758333</td>\n",
              "    </tr>\n",
              "    <tr>\n",
              "      <th>3</th>\n",
              "      <td>0.825000</td>\n",
              "      <td>0.758333</td>\n",
              "    </tr>\n",
              "    <tr>\n",
              "      <th>4</th>\n",
              "      <td>0.816667</td>\n",
              "      <td>0.758333</td>\n",
              "    </tr>\n",
              "  </tbody>\n",
              "</table>\n",
              "</div>"
            ],
            "text/plain": [
              "    default  ajustado\n",
              "0  0.775000  0.758333\n",
              "1  0.791667  0.758333\n",
              "2  0.808333  0.758333\n",
              "3  0.825000  0.758333\n",
              "4  0.816667  0.758333"
            ]
          },
          "execution_count": 36,
          "metadata": {},
          "output_type": "execute_result"
        }
      ],
      "source": [
        "ddff = pd.DataFrame(list(zip(listaEvalsAD, listaEvalsAD_HP)), columns = [\"default\", \"ajustado\"])\n",
        "ddff"
      ]
    },
    {
      "cell_type": "code",
      "execution_count": 37,
      "metadata": {
        "colab": {
          "base_uri": "https://localhost:8080/",
          "height": 470
        },
        "id": "McCXUhVORutr",
        "outputId": "6e25e91f-7903-44e1-e1aa-94e10b74bd26"
      },
      "outputs": [
        {
          "data": {
            "text/plain": [
              "<function matplotlib.pyplot.show(close=None, block=None)>"
            ]
          },
          "execution_count": 37,
          "metadata": {},
          "output_type": "execute_result"
        },
        {
          "data": {
            "image/png": "[encoded data removed]",
            "text/plain": [
              "<Figure size 640x480 with 1 Axes>"
            ]
          },
          "metadata": {},
          "output_type": "display_data"
        }
      ],
      "source": [
        "ddff.plot(kind='box')\n",
        "plt.title('Comparativa de puntajes (Score) de árboles de decisión')\n",
        "plt.show"
      ]
    },
    {
      "attachments": {},
      "cell_type": "markdown",
      "metadata": {
        "id": "QyulwutSS04A"
      },
      "source": [
        "Diferencias en la comparativa de modelos\n",
        "\n",
        "Noto principalmente dos cosas en esta comparativa:\n",
        "1. El rango de valores de los resultados arrojados por el modelo con los hiperparámetros ajustados no es diverso a diferencia del modelo base, el cual obtuvo distintos valores. Esto bien puede deberse a que el modelo con hiperparámetros tiene un valor entero para el \"random_state\" lo que puede ocasionar mismos resultados para distintas ejecuciones.\n",
        "\n",
        "2. El promedio de puntaje (score) del modelo base es mayor al modelo con hiperparámetros ajustados.Esto podría deberse a un posible conflicto entre los hiperparámetros elegidos."
      ]
    },
    {
      "cell_type": "code",
      "execution_count": 38,
      "metadata": {
        "colab": {
          "base_uri": "https://localhost:8080/",
          "height": 206
        },
        "id": "UUSKGmpLXp94",
        "outputId": "9ee56367-cc68-4a09-92d5-da3b3fcf8b05"
      },
      "outputs": [
        {
          "data": {
            "text/html": [
              "<div>\n",
              "<style scoped>\n",
              "    .dataframe tbody tr th:only-of-type {\n",
              "        vertical-align: middle;\n",
              "    }\n",
              "\n",
              "    .dataframe tbody tr th {\n",
              "        vertical-align: top;\n",
              "    }\n",
              "\n",
              "    .dataframe thead th {\n",
              "        text-align: right;\n",
              "    }\n",
              "</style>\n",
              "<table border=\"1\" class=\"dataframe\">\n",
              "  <thead>\n",
              "    <tr style=\"text-align: right;\">\n",
              "      <th></th>\n",
              "      <th>default</th>\n",
              "      <th>ajustado</th>\n",
              "    </tr>\n",
              "  </thead>\n",
              "  <tbody>\n",
              "    <tr>\n",
              "      <th>0</th>\n",
              "      <td>0.775000</td>\n",
              "      <td>0.758333</td>\n",
              "    </tr>\n",
              "    <tr>\n",
              "      <th>1</th>\n",
              "      <td>0.791667</td>\n",
              "      <td>0.758333</td>\n",
              "    </tr>\n",
              "    <tr>\n",
              "      <th>2</th>\n",
              "      <td>0.808333</td>\n",
              "      <td>0.758333</td>\n",
              "    </tr>\n",
              "    <tr>\n",
              "      <th>3</th>\n",
              "      <td>0.825000</td>\n",
              "      <td>0.758333</td>\n",
              "    </tr>\n",
              "    <tr>\n",
              "      <th>4</th>\n",
              "      <td>0.816667</td>\n",
              "      <td>0.758333</td>\n",
              "    </tr>\n",
              "  </tbody>\n",
              "</table>\n",
              "</div>"
            ],
            "text/plain": [
              "    default  ajustado\n",
              "0  0.775000  0.758333\n",
              "1  0.791667  0.758333\n",
              "2  0.808333  0.758333\n",
              "3  0.825000  0.758333\n",
              "4  0.816667  0.758333"
            ]
          },
          "execution_count": 38,
          "metadata": {},
          "output_type": "execute_result"
        }
      ],
      "source": [
        "ddff_accuracy = pd.DataFrame(list(zip(listaExactitudes, listaExactitudes_HP)), columns = [\"default\", \"ajustado\"])\n",
        "ddff_accuracy"
      ]
    },
    {
      "cell_type": "code",
      "execution_count": 39,
      "metadata": {
        "colab": {
          "base_uri": "https://localhost:8080/",
          "height": 470
        },
        "id": "aq0uBAT1Zhqq",
        "outputId": "aedcdc77-ffee-4160-c17f-7db4f56b7705"
      },
      "outputs": [
        {
          "data": {
            "text/plain": [
              "<function matplotlib.pyplot.show(close=None, block=None)>"
            ]
          },
          "execution_count": 39,
          "metadata": {},
          "output_type": "execute_result"
        },
        {
          "data": {
            "image/png": "[encoded data removed]",
            "text/plain": [
              "<Figure size 640x480 with 1 Axes>"
            ]
          },
          "metadata": {},
          "output_type": "display_data"
        }
      ],
      "source": [
        "ddff_accuracy.plot(kind='box')\n",
        "plt.title('Comparativa de puntajes de exactitud (accuracy) de árboles de decisión')\n",
        "plt.show"
      ]
    },
    {
      "cell_type": "code",
      "execution_count": 40,
      "metadata": {
        "colab": {
          "base_uri": "https://localhost:8080/",
          "height": 206
        },
        "id": "76Yfe3rEXzfL",
        "outputId": "1c5042ab-ef94-415b-ce14-daaa523d978a"
      },
      "outputs": [
        {
          "data": {
            "text/html": [
              "<div>\n",
              "<style scoped>\n",
              "    .dataframe tbody tr th:only-of-type {\n",
              "        vertical-align: middle;\n",
              "    }\n",
              "\n",
              "    .dataframe tbody tr th {\n",
              "        vertical-align: top;\n",
              "    }\n",
              "\n",
              "    .dataframe thead th {\n",
              "        text-align: right;\n",
              "    }\n",
              "</style>\n",
              "<table border=\"1\" class=\"dataframe\">\n",
              "  <thead>\n",
              "    <tr style=\"text-align: right;\">\n",
              "      <th></th>\n",
              "      <th>default</th>\n",
              "      <th>ajustado</th>\n",
              "    </tr>\n",
              "  </thead>\n",
              "  <tbody>\n",
              "    <tr>\n",
              "      <th>0</th>\n",
              "      <td>0.775000</td>\n",
              "      <td>0.758333</td>\n",
              "    </tr>\n",
              "    <tr>\n",
              "      <th>1</th>\n",
              "      <td>0.791667</td>\n",
              "      <td>0.758333</td>\n",
              "    </tr>\n",
              "    <tr>\n",
              "      <th>2</th>\n",
              "      <td>0.808333</td>\n",
              "      <td>0.758333</td>\n",
              "    </tr>\n",
              "    <tr>\n",
              "      <th>3</th>\n",
              "      <td>0.825000</td>\n",
              "      <td>0.758333</td>\n",
              "    </tr>\n",
              "    <tr>\n",
              "      <th>4</th>\n",
              "      <td>0.816667</td>\n",
              "      <td>0.758333</td>\n",
              "    </tr>\n",
              "  </tbody>\n",
              "</table>\n",
              "</div>"
            ],
            "text/plain": [
              "    default  ajustado\n",
              "0  0.775000  0.758333\n",
              "1  0.791667  0.758333\n",
              "2  0.808333  0.758333\n",
              "3  0.825000  0.758333\n",
              "4  0.816667  0.758333"
            ]
          },
          "execution_count": 40,
          "metadata": {},
          "output_type": "execute_result"
        }
      ],
      "source": [
        "ddff_recall = pd.DataFrame(list(zip(listaRecuperaciones, listaRecuperaciones_HP)), columns = [\"default\", \"ajustado\"])\n",
        "ddff_recall"
      ]
    },
    {
      "cell_type": "code",
      "execution_count": 41,
      "metadata": {
        "colab": {
          "base_uri": "https://localhost:8080/",
          "height": 470
        },
        "id": "mTHYOVvSZt38",
        "outputId": "12399f9c-9cc4-485e-e435-b32b213e9aaf"
      },
      "outputs": [
        {
          "data": {
            "text/plain": [
              "<function matplotlib.pyplot.show(close=None, block=None)>"
            ]
          },
          "execution_count": 41,
          "metadata": {},
          "output_type": "execute_result"
        },
        {
          "data": {
            "image/png": "[encoded data removed]",
            "text/plain": [
              "<Figure size 640x480 with 1 Axes>"
            ]
          },
          "metadata": {},
          "output_type": "display_data"
        }
      ],
      "source": [
        "ddff_recall.plot(kind='box')\n",
        "plt.title('Comparativa de puntajes de recuperación (recall) de árboles de decisión')\n",
        "plt.show"
      ]
    },
    {
      "cell_type": "code",
      "execution_count": 42,
      "metadata": {
        "colab": {
          "base_uri": "https://localhost:8080/",
          "height": 206
        },
        "id": "1o9raxtZYIwV",
        "outputId": "2b0fa627-455f-4be5-83ec-206da18fb250"
      },
      "outputs": [
        {
          "data": {
            "text/html": [
              "<div>\n",
              "<style scoped>\n",
              "    .dataframe tbody tr th:only-of-type {\n",
              "        vertical-align: middle;\n",
              "    }\n",
              "\n",
              "    .dataframe tbody tr th {\n",
              "        vertical-align: top;\n",
              "    }\n",
              "\n",
              "    .dataframe thead th {\n",
              "        text-align: right;\n",
              "    }\n",
              "</style>\n",
              "<table border=\"1\" class=\"dataframe\">\n",
              "  <thead>\n",
              "    <tr style=\"text-align: right;\">\n",
              "      <th></th>\n",
              "      <th>default</th>\n",
              "      <th>ajustado</th>\n",
              "    </tr>\n",
              "  </thead>\n",
              "  <tbody>\n",
              "    <tr>\n",
              "      <th>0</th>\n",
              "      <td>0.775000</td>\n",
              "      <td>0.758333</td>\n",
              "    </tr>\n",
              "    <tr>\n",
              "      <th>1</th>\n",
              "      <td>0.791667</td>\n",
              "      <td>0.758333</td>\n",
              "    </tr>\n",
              "    <tr>\n",
              "      <th>2</th>\n",
              "      <td>0.808333</td>\n",
              "      <td>0.758333</td>\n",
              "    </tr>\n",
              "    <tr>\n",
              "      <th>3</th>\n",
              "      <td>0.825000</td>\n",
              "      <td>0.758333</td>\n",
              "    </tr>\n",
              "    <tr>\n",
              "      <th>4</th>\n",
              "      <td>0.816667</td>\n",
              "      <td>0.758333</td>\n",
              "    </tr>\n",
              "  </tbody>\n",
              "</table>\n",
              "</div>"
            ],
            "text/plain": [
              "    default  ajustado\n",
              "0  0.775000  0.758333\n",
              "1  0.791667  0.758333\n",
              "2  0.808333  0.758333\n",
              "3  0.825000  0.758333\n",
              "4  0.816667  0.758333"
            ]
          },
          "execution_count": 42,
          "metadata": {},
          "output_type": "execute_result"
        }
      ],
      "source": [
        "ddff_precision = pd.DataFrame(list(zip(listaPrecisiones, listaPrecisiones_HP)), columns = [\"default\", \"ajustado\"])\n",
        "ddff_precision"
      ]
    },
    {
      "cell_type": "code",
      "execution_count": 43,
      "metadata": {
        "colab": {
          "base_uri": "https://localhost:8080/",
          "height": 470
        },
        "id": "2GhbE7e6aDJI",
        "outputId": "f1c3c637-b391-4190-a8b6-959a6c25fde2"
      },
      "outputs": [
        {
          "data": {
            "text/plain": [
              "<function matplotlib.pyplot.show(close=None, block=None)>"
            ]
          },
          "execution_count": 43,
          "metadata": {},
          "output_type": "execute_result"
        },
        {
          "data": {
            "image/png": "[encoded data removed]",
            "text/plain": [
              "<Figure size 640x480 with 1 Axes>"
            ]
          },
          "metadata": {},
          "output_type": "display_data"
        }
      ],
      "source": [
        "ddff_precision.plot(kind='box')\n",
        "plt.title('Comparativa de puntajes de precisión (precision) de árboles de decisión')\n",
        "plt.show"
      ]
    },
    {
      "cell_type": "code",
      "execution_count": 44,
      "metadata": {
        "colab": {
          "base_uri": "https://localhost:8080/",
          "height": 206
        },
        "id": "jpD8h9iWYQmL",
        "outputId": "ee84698d-b379-4b6c-ffaf-88ec415c26b9"
      },
      "outputs": [
        {
          "data": {
            "text/html": [
              "<div>\n",
              "<style scoped>\n",
              "    .dataframe tbody tr th:only-of-type {\n",
              "        vertical-align: middle;\n",
              "    }\n",
              "\n",
              "    .dataframe tbody tr th {\n",
              "        vertical-align: top;\n",
              "    }\n",
              "\n",
              "    .dataframe thead th {\n",
              "        text-align: right;\n",
              "    }\n",
              "</style>\n",
              "<table border=\"1\" class=\"dataframe\">\n",
              "  <thead>\n",
              "    <tr style=\"text-align: right;\">\n",
              "      <th></th>\n",
              "      <th>default</th>\n",
              "      <th>ajustado</th>\n",
              "    </tr>\n",
              "  </thead>\n",
              "  <tbody>\n",
              "    <tr>\n",
              "      <th>0</th>\n",
              "      <td>0.775000</td>\n",
              "      <td>0.758333</td>\n",
              "    </tr>\n",
              "    <tr>\n",
              "      <th>1</th>\n",
              "      <td>0.791667</td>\n",
              "      <td>0.758333</td>\n",
              "    </tr>\n",
              "    <tr>\n",
              "      <th>2</th>\n",
              "      <td>0.808333</td>\n",
              "      <td>0.758333</td>\n",
              "    </tr>\n",
              "    <tr>\n",
              "      <th>3</th>\n",
              "      <td>0.825000</td>\n",
              "      <td>0.758333</td>\n",
              "    </tr>\n",
              "    <tr>\n",
              "      <th>4</th>\n",
              "      <td>0.816667</td>\n",
              "      <td>0.758333</td>\n",
              "    </tr>\n",
              "  </tbody>\n",
              "</table>\n",
              "</div>"
            ],
            "text/plain": [
              "    default  ajustado\n",
              "0  0.775000  0.758333\n",
              "1  0.791667  0.758333\n",
              "2  0.808333  0.758333\n",
              "3  0.825000  0.758333\n",
              "4  0.816667  0.758333"
            ]
          },
          "execution_count": 44,
          "metadata": {},
          "output_type": "execute_result"
        }
      ],
      "source": [
        "ddff_F1 = pd.DataFrame(list(zip(listaF1s, listaF1s_HP)), columns = [\"default\", \"ajustado\"])\n",
        "ddff_F1"
      ]
    },
    {
      "cell_type": "code",
      "execution_count": 45,
      "metadata": {
        "colab": {
          "base_uri": "https://localhost:8080/",
          "height": 470
        },
        "id": "k29EVFbWaIWk",
        "outputId": "c8366120-775c-48ac-f69b-cf09bc814b19"
      },
      "outputs": [
        {
          "data": {
            "text/plain": [
              "<function matplotlib.pyplot.show(close=None, block=None)>"
            ]
          },
          "execution_count": 45,
          "metadata": {},
          "output_type": "execute_result"
        },
        {
          "data": {
            "image/png": "[encoded data removed]",
            "text/plain": [
              "<Figure size 640x480 with 1 Axes>"
            ]
          },
          "metadata": {},
          "output_type": "display_data"
        }
      ],
      "source": [
        "ddff_F1.plot(kind='box')\n",
        "plt.title('Comparativa de puntajes f1 de árboles de decisión')\n",
        "plt.show"
      ]
    },
    {
      "attachments": {},
      "cell_type": "markdown",
      "metadata": {
        "id": "fVQk9DhWa40s"
      },
      "source": [
        "En cuanto a las métricas de: exactitud, recuperación, precisión y f1 se observa el mismo comportamiento: menos diversidad y puntaje por parte del modelo con hiperparámetros ajustados."
      ]
    }
  ],
  "metadata": {
    "colab": {
      "provenance": []
    },
    "kernelspec": {
      "display_name": "Python 3",
      "name": "python3"
    },
    "language_info": {
      "codemirror_mode": {
        "name": "ipython",
        "version": 3
      },
      "file_extension": ".py",
      "mimetype": "text/x-python",
      "name": "python",
      "nbconvert_exporter": "python",
      "pygments_lexer": "ipython3",
      "version": "3.11.3"
    }
  },
  "nbformat": 4,
  "nbformat_minor": 0
}
